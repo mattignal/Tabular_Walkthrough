{
 "cells": [
  {
   "cell_type": "markdown",
   "metadata": {
    "collapsed": true
   },
   "source": [
    "# Tabular Data Science Walkthrough\n",
    "\n",
    "## Summary Instructions\n",
    "\n",
    "We’re experimenting with a feature to curate a set of meals to send to a user via email each day so they can order with one click. We will send 5 new meal options to a user and hope that one of them is what they want for lunch that day. We would like to understand how many orders we should expect for each meal tomorrow.\n",
    "\n",
    "The data you should use to help you explore this question is in the following csv files:\n",
    "\n",
    "* user_features - features describing our users\n",
    "* meal_features - features describing the meals our restaurant partners serve\n",
    "* meals_previously_seen - contains which meals users had previously seen and whether that user ordered the meal\n",
    "* meals_to_be_sent - data on which meals will be sent to users tomorrow\n",
    "\n",
    "## Running The Notebook\n",
    "\n",
    "This notebook runs on Python 3. Most of the libraries used come pre-installed with Anaconda, but the dataframe summarizer pandas_summary and the machine learning library fastai do not. They can be installed using from the terminal with Anaconda builds by using:\n",
    "\n",
    "`pip install pandas_summary\n",
    "pip install fastai`\n",
    "\n",
    "You can also install these from the notebook with:\n",
    "\n",
    "`!pip install pandas_summary\n",
    "!pip install fastai`\n",
    "\n",
    "Any other missing libraries can be fixed with a similar 'pip' install. If an error arises, try updating, restarting the kernel, and re-running the notebook.\n",
    "\n",
    "## Investigating The Problem\n",
    "\n",
    "According to the instructions, the goal is to \"understand how many orders we should expect for each meal tomorrow\" and the final output \"should be a table containing the meals and the number of orders we should expect.\"\n",
    "\n",
    "We will \"do data science\" by way of investigating the problem and performing exploratory data analysis, data cleaning, feature engineering, machine learning, neural networks, interpretation, and more.\n",
    "\n",
    "Let's dive in!"
   ]
  },
  {
   "cell_type": "code",
   "execution_count": 1,
   "metadata": {
    "collapsed": true
   },
   "outputs": [],
   "source": [
    "# File imports\n",
    "from IPython.display import display\n",
    "import numpy as np\n",
    "np.random.seed(33)\n",
    "import pandas as pd\n",
    "pd.options.display.max_columns = 999\n",
    "import matplotlib.pyplot as plt\n",
    "import seaborn as sns\n",
    "%matplotlib inline\n",
    "\n",
    "from pandas_summary import DataFrameSummary as dfs"
   ]
  },
  {
   "cell_type": "markdown",
   "metadata": {},
   "source": [
    "Let's take a look at the .csv files. I'll use the pandas_summary library to look at the column stats."
   ]
  },
  {
   "cell_type": "code",
   "execution_count": 2,
   "metadata": {
    "scrolled": false
   },
   "outputs": [
    {
     "name": "stdout",
     "output_type": "stream",
     "text": [
      "User features:\n"
     ]
    },
    {
     "data": {
      "text/html": [
       "<div>\n",
       "<style scoped>\n",
       "    .dataframe tbody tr th:only-of-type {\n",
       "        vertical-align: middle;\n",
       "    }\n",
       "\n",
       "    .dataframe tbody tr th {\n",
       "        vertical-align: top;\n",
       "    }\n",
       "\n",
       "    .dataframe thead th {\n",
       "        text-align: right;\n",
       "    }\n",
       "</style>\n",
       "<table border=\"1\" class=\"dataframe\">\n",
       "  <thead>\n",
       "    <tr style=\"text-align: right;\">\n",
       "      <th></th>\n",
       "      <th>user_id</th>\n",
       "      <th>number_of_subscription_cycles</th>\n",
       "      <th>ordered_yesterday</th>\n",
       "      <th>favorite_cuisines</th>\n",
       "    </tr>\n",
       "  </thead>\n",
       "  <tbody>\n",
       "    <tr>\n",
       "      <th>0</th>\n",
       "      <td>104939</td>\n",
       "      <td>2</td>\n",
       "      <td>True</td>\n",
       "      <td>['korean', 'italian', 'chinese', 'vegetarian',...</td>\n",
       "    </tr>\n",
       "    <tr>\n",
       "      <th>1</th>\n",
       "      <td>101562</td>\n",
       "      <td>2</td>\n",
       "      <td>True</td>\n",
       "      <td>['mediterranean', 'indian', 'thai', 'american'...</td>\n",
       "    </tr>\n",
       "    <tr>\n",
       "      <th>2</th>\n",
       "      <td>102343</td>\n",
       "      <td>2</td>\n",
       "      <td>True</td>\n",
       "      <td>['thai', 'italian', 'japanese', 'chinese']</td>\n",
       "    </tr>\n",
       "    <tr>\n",
       "      <th>11997</th>\n",
       "      <td>106873</td>\n",
       "      <td>2</td>\n",
       "      <td>False</td>\n",
       "      <td>['middle-eastern', 'thai', 'mediterranean', 'v...</td>\n",
       "    </tr>\n",
       "    <tr>\n",
       "      <th>11998</th>\n",
       "      <td>107769</td>\n",
       "      <td>NaN</td>\n",
       "      <td>True</td>\n",
       "      <td>['vegetarian', 'mediterranean', 'thai', 'itali...</td>\n",
       "    </tr>\n",
       "    <tr>\n",
       "      <th>11999</th>\n",
       "      <td>103190</td>\n",
       "      <td>0</td>\n",
       "      <td>True</td>\n",
       "      <td>['indian', 'italian', 'mediterranean', 'vegeta...</td>\n",
       "    </tr>\n",
       "  </tbody>\n",
       "</table>\n",
       "</div>"
      ],
      "text/plain": [
       "       user_id number_of_subscription_cycles  ordered_yesterday  \\\n",
       "0       104939                             2               True   \n",
       "1       101562                             2               True   \n",
       "2       102343                             2               True   \n",
       "11997   106873                             2              False   \n",
       "11998   107769                           NaN               True   \n",
       "11999   103190                             0               True   \n",
       "\n",
       "                                       favorite_cuisines  \n",
       "0      ['korean', 'italian', 'chinese', 'vegetarian',...  \n",
       "1      ['mediterranean', 'indian', 'thai', 'american'...  \n",
       "2             ['thai', 'italian', 'japanese', 'chinese']  \n",
       "11997  ['middle-eastern', 'thai', 'mediterranean', 'v...  \n",
       "11998  ['vegetarian', 'mediterranean', 'thai', 'itali...  \n",
       "11999  ['indian', 'italian', 'mediterranean', 'vegeta...  "
      ]
     },
     "metadata": {},
     "output_type": "display_data"
    },
    {
     "data": {
      "text/html": [
       "<div>\n",
       "<style scoped>\n",
       "    .dataframe tbody tr th:only-of-type {\n",
       "        vertical-align: middle;\n",
       "    }\n",
       "\n",
       "    .dataframe tbody tr th {\n",
       "        vertical-align: top;\n",
       "    }\n",
       "\n",
       "    .dataframe thead th {\n",
       "        text-align: right;\n",
       "    }\n",
       "</style>\n",
       "<table border=\"1\" class=\"dataframe\">\n",
       "  <thead>\n",
       "    <tr style=\"text-align: right;\">\n",
       "      <th></th>\n",
       "      <th>user_id</th>\n",
       "      <th>number_of_subscription_cycles</th>\n",
       "      <th>ordered_yesterday</th>\n",
       "      <th>favorite_cuisines</th>\n",
       "    </tr>\n",
       "  </thead>\n",
       "  <tbody>\n",
       "    <tr>\n",
       "      <th>counts</th>\n",
       "      <td>12000</td>\n",
       "      <td>11500</td>\n",
       "      <td>12000</td>\n",
       "      <td>12000</td>\n",
       "    </tr>\n",
       "    <tr>\n",
       "      <th>uniques</th>\n",
       "      <td>12000</td>\n",
       "      <td>7</td>\n",
       "      <td>2</td>\n",
       "      <td>8316</td>\n",
       "    </tr>\n",
       "    <tr>\n",
       "      <th>missing</th>\n",
       "      <td>0</td>\n",
       "      <td>500</td>\n",
       "      <td>0</td>\n",
       "      <td>0</td>\n",
       "    </tr>\n",
       "    <tr>\n",
       "      <th>missing_perc</th>\n",
       "      <td>0%</td>\n",
       "      <td>4.17%</td>\n",
       "      <td>0%</td>\n",
       "      <td>0%</td>\n",
       "    </tr>\n",
       "    <tr>\n",
       "      <th>types</th>\n",
       "      <td>numeric</td>\n",
       "      <td>categorical</td>\n",
       "      <td>bool</td>\n",
       "      <td>categorical</td>\n",
       "    </tr>\n",
       "  </tbody>\n",
       "</table>\n",
       "</div>"
      ],
      "text/plain": [
       "              user_id number_of_subscription_cycles ordered_yesterday  \\\n",
       "counts          12000                         11500             12000   \n",
       "uniques         12000                             7                 2   \n",
       "missing             0                           500                 0   \n",
       "missing_perc       0%                         4.17%                0%   \n",
       "types         numeric                   categorical              bool   \n",
       "\n",
       "             favorite_cuisines  \n",
       "counts                   12000  \n",
       "uniques                   8316  \n",
       "missing                      0  \n",
       "missing_perc                0%  \n",
       "types              categorical  "
      ]
     },
     "metadata": {},
     "output_type": "display_data"
    },
    {
     "name": "stdout",
     "output_type": "stream",
     "text": [
      "\n",
      "Meal Features:\n"
     ]
    },
    {
     "data": {
      "text/html": [
       "<div>\n",
       "<style scoped>\n",
       "    .dataframe tbody tr th:only-of-type {\n",
       "        vertical-align: middle;\n",
       "    }\n",
       "\n",
       "    .dataframe tbody tr th {\n",
       "        vertical-align: top;\n",
       "    }\n",
       "\n",
       "    .dataframe thead th {\n",
       "        text-align: right;\n",
       "    }\n",
       "</style>\n",
       "<table border=\"1\" class=\"dataframe\">\n",
       "  <thead>\n",
       "    <tr style=\"text-align: right;\">\n",
       "      <th></th>\n",
       "      <th>meal_id</th>\n",
       "      <th>cuisine</th>\n",
       "      <th>large_portion</th>\n",
       "      <th>number_of_reviews</th>\n",
       "      <th>avg_review_score</th>\n",
       "    </tr>\n",
       "  </thead>\n",
       "  <tbody>\n",
       "    <tr>\n",
       "      <th>0</th>\n",
       "      <td>1134</td>\n",
       "      <td>thai</td>\n",
       "      <td>False</td>\n",
       "      <td>101</td>\n",
       "      <td>3.349452</td>\n",
       "    </tr>\n",
       "    <tr>\n",
       "      <th>1</th>\n",
       "      <td>1846</td>\n",
       "      <td>american</td>\n",
       "      <td>False</td>\n",
       "      <td>111</td>\n",
       "      <td>5.000000</td>\n",
       "    </tr>\n",
       "    <tr>\n",
       "      <th>2</th>\n",
       "      <td>1762</td>\n",
       "      <td>latin</td>\n",
       "      <td>False</td>\n",
       "      <td>220</td>\n",
       "      <td>4.882706</td>\n",
       "    </tr>\n",
       "    <tr>\n",
       "      <th>997</th>\n",
       "      <td>1062</td>\n",
       "      <td>japanese</td>\n",
       "      <td>True</td>\n",
       "      <td>705</td>\n",
       "      <td>3.602008</td>\n",
       "    </tr>\n",
       "    <tr>\n",
       "      <th>998</th>\n",
       "      <td>1721</td>\n",
       "      <td>italian</td>\n",
       "      <td>True</td>\n",
       "      <td>306</td>\n",
       "      <td>1.846254</td>\n",
       "    </tr>\n",
       "    <tr>\n",
       "      <th>999</th>\n",
       "      <td>1995</td>\n",
       "      <td>mediterranean</td>\n",
       "      <td>True</td>\n",
       "      <td>199</td>\n",
       "      <td>3.576706</td>\n",
       "    </tr>\n",
       "  </tbody>\n",
       "</table>\n",
       "</div>"
      ],
      "text/plain": [
       "     meal_id        cuisine  large_portion  number_of_reviews  \\\n",
       "0       1134           thai          False                101   \n",
       "1       1846       american          False                111   \n",
       "2       1762          latin          False                220   \n",
       "997     1062       japanese           True                705   \n",
       "998     1721        italian           True                306   \n",
       "999     1995  mediterranean           True                199   \n",
       "\n",
       "     avg_review_score  \n",
       "0            3.349452  \n",
       "1            5.000000  \n",
       "2            4.882706  \n",
       "997          3.602008  \n",
       "998          1.846254  \n",
       "999          3.576706  "
      ]
     },
     "metadata": {},
     "output_type": "display_data"
    },
    {
     "data": {
      "text/html": [
       "<div>\n",
       "<style scoped>\n",
       "    .dataframe tbody tr th:only-of-type {\n",
       "        vertical-align: middle;\n",
       "    }\n",
       "\n",
       "    .dataframe tbody tr th {\n",
       "        vertical-align: top;\n",
       "    }\n",
       "\n",
       "    .dataframe thead th {\n",
       "        text-align: right;\n",
       "    }\n",
       "</style>\n",
       "<table border=\"1\" class=\"dataframe\">\n",
       "  <thead>\n",
       "    <tr style=\"text-align: right;\">\n",
       "      <th></th>\n",
       "      <th>meal_id</th>\n",
       "      <th>cuisine</th>\n",
       "      <th>large_portion</th>\n",
       "      <th>number_of_reviews</th>\n",
       "      <th>avg_review_score</th>\n",
       "    </tr>\n",
       "  </thead>\n",
       "  <tbody>\n",
       "    <tr>\n",
       "      <th>counts</th>\n",
       "      <td>1000</td>\n",
       "      <td>1000</td>\n",
       "      <td>1000</td>\n",
       "      <td>1000</td>\n",
       "      <td>1000</td>\n",
       "    </tr>\n",
       "    <tr>\n",
       "      <th>uniques</th>\n",
       "      <td>1000</td>\n",
       "      <td>11</td>\n",
       "      <td>2</td>\n",
       "      <td>602</td>\n",
       "      <td>828</td>\n",
       "    </tr>\n",
       "    <tr>\n",
       "      <th>missing</th>\n",
       "      <td>0</td>\n",
       "      <td>0</td>\n",
       "      <td>0</td>\n",
       "      <td>0</td>\n",
       "      <td>0</td>\n",
       "    </tr>\n",
       "    <tr>\n",
       "      <th>missing_perc</th>\n",
       "      <td>0%</td>\n",
       "      <td>0%</td>\n",
       "      <td>0%</td>\n",
       "      <td>0%</td>\n",
       "      <td>0%</td>\n",
       "    </tr>\n",
       "    <tr>\n",
       "      <th>types</th>\n",
       "      <td>numeric</td>\n",
       "      <td>categorical</td>\n",
       "      <td>bool</td>\n",
       "      <td>numeric</td>\n",
       "      <td>numeric</td>\n",
       "    </tr>\n",
       "  </tbody>\n",
       "</table>\n",
       "</div>"
      ],
      "text/plain": [
       "              meal_id      cuisine large_portion number_of_reviews  \\\n",
       "counts           1000         1000          1000              1000   \n",
       "uniques          1000           11             2               602   \n",
       "missing             0            0             0                 0   \n",
       "missing_perc       0%           0%            0%                0%   \n",
       "types         numeric  categorical          bool           numeric   \n",
       "\n",
       "             avg_review_score  \n",
       "counts                   1000  \n",
       "uniques                   828  \n",
       "missing                     0  \n",
       "missing_perc               0%  \n",
       "types                 numeric  "
      ]
     },
     "metadata": {},
     "output_type": "display_data"
    },
    {
     "name": "stdout",
     "output_type": "stream",
     "text": [
      "\n",
      "Meals previously seen:\n"
     ]
    },
    {
     "data": {
      "text/html": [
       "<div>\n",
       "<style scoped>\n",
       "    .dataframe tbody tr th:only-of-type {\n",
       "        vertical-align: middle;\n",
       "    }\n",
       "\n",
       "    .dataframe tbody tr th {\n",
       "        vertical-align: top;\n",
       "    }\n",
       "\n",
       "    .dataframe thead th {\n",
       "        text-align: right;\n",
       "    }\n",
       "</style>\n",
       "<table border=\"1\" class=\"dataframe\">\n",
       "  <thead>\n",
       "    <tr style=\"text-align: right;\">\n",
       "      <th></th>\n",
       "      <th>user_id</th>\n",
       "      <th>meal_id</th>\n",
       "      <th>ordered</th>\n",
       "    </tr>\n",
       "  </thead>\n",
       "  <tbody>\n",
       "    <tr>\n",
       "      <th>0</th>\n",
       "      <td>104863</td>\n",
       "      <td>1350</td>\n",
       "      <td>False</td>\n",
       "    </tr>\n",
       "    <tr>\n",
       "      <th>1</th>\n",
       "      <td>108656</td>\n",
       "      <td>1321</td>\n",
       "      <td>True</td>\n",
       "    </tr>\n",
       "    <tr>\n",
       "      <th>2</th>\n",
       "      <td>100120</td>\n",
       "      <td>1110</td>\n",
       "      <td>False</td>\n",
       "    </tr>\n",
       "    <tr>\n",
       "      <th>35987</th>\n",
       "      <td>105921</td>\n",
       "      <td>1018</td>\n",
       "      <td>False</td>\n",
       "    </tr>\n",
       "    <tr>\n",
       "      <th>35988</th>\n",
       "      <td>106064</td>\n",
       "      <td>1082</td>\n",
       "      <td>True</td>\n",
       "    </tr>\n",
       "    <tr>\n",
       "      <th>35989</th>\n",
       "      <td>100664</td>\n",
       "      <td>1063</td>\n",
       "      <td>True</td>\n",
       "    </tr>\n",
       "  </tbody>\n",
       "</table>\n",
       "</div>"
      ],
      "text/plain": [
       "       user_id  meal_id  ordered\n",
       "0       104863     1350    False\n",
       "1       108656     1321     True\n",
       "2       100120     1110    False\n",
       "35987   105921     1018    False\n",
       "35988   106064     1082     True\n",
       "35989   100664     1063     True"
      ]
     },
     "metadata": {},
     "output_type": "display_data"
    },
    {
     "data": {
      "text/html": [
       "<div>\n",
       "<style scoped>\n",
       "    .dataframe tbody tr th:only-of-type {\n",
       "        vertical-align: middle;\n",
       "    }\n",
       "\n",
       "    .dataframe tbody tr th {\n",
       "        vertical-align: top;\n",
       "    }\n",
       "\n",
       "    .dataframe thead th {\n",
       "        text-align: right;\n",
       "    }\n",
       "</style>\n",
       "<table border=\"1\" class=\"dataframe\">\n",
       "  <thead>\n",
       "    <tr style=\"text-align: right;\">\n",
       "      <th></th>\n",
       "      <th>user_id</th>\n",
       "      <th>meal_id</th>\n",
       "      <th>ordered</th>\n",
       "    </tr>\n",
       "  </thead>\n",
       "  <tbody>\n",
       "    <tr>\n",
       "      <th>counts</th>\n",
       "      <td>35990</td>\n",
       "      <td>35990</td>\n",
       "      <td>35990</td>\n",
       "    </tr>\n",
       "    <tr>\n",
       "      <th>uniques</th>\n",
       "      <td>7200</td>\n",
       "      <td>1000</td>\n",
       "      <td>2</td>\n",
       "    </tr>\n",
       "    <tr>\n",
       "      <th>missing</th>\n",
       "      <td>0</td>\n",
       "      <td>0</td>\n",
       "      <td>0</td>\n",
       "    </tr>\n",
       "    <tr>\n",
       "      <th>missing_perc</th>\n",
       "      <td>0%</td>\n",
       "      <td>0%</td>\n",
       "      <td>0%</td>\n",
       "    </tr>\n",
       "    <tr>\n",
       "      <th>types</th>\n",
       "      <td>numeric</td>\n",
       "      <td>numeric</td>\n",
       "      <td>bool</td>\n",
       "    </tr>\n",
       "  </tbody>\n",
       "</table>\n",
       "</div>"
      ],
      "text/plain": [
       "              user_id  meal_id ordered\n",
       "counts          35990    35990   35990\n",
       "uniques          7200     1000       2\n",
       "missing             0        0       0\n",
       "missing_perc       0%       0%      0%\n",
       "types         numeric  numeric    bool"
      ]
     },
     "metadata": {},
     "output_type": "display_data"
    },
    {
     "name": "stdout",
     "output_type": "stream",
     "text": [
      "\n",
      "Meals previously seen sorted:\n"
     ]
    },
    {
     "data": {
      "text/html": [
       "<div>\n",
       "<style scoped>\n",
       "    .dataframe tbody tr th:only-of-type {\n",
       "        vertical-align: middle;\n",
       "    }\n",
       "\n",
       "    .dataframe tbody tr th {\n",
       "        vertical-align: top;\n",
       "    }\n",
       "\n",
       "    .dataframe thead th {\n",
       "        text-align: right;\n",
       "    }\n",
       "</style>\n",
       "<table border=\"1\" class=\"dataframe\">\n",
       "  <thead>\n",
       "    <tr style=\"text-align: right;\">\n",
       "      <th></th>\n",
       "      <th>user_id</th>\n",
       "      <th>meal_id</th>\n",
       "      <th>ordered</th>\n",
       "    </tr>\n",
       "  </thead>\n",
       "  <tbody>\n",
       "    <tr>\n",
       "      <th>35518</th>\n",
       "      <td>100001</td>\n",
       "      <td>1363</td>\n",
       "      <td>True</td>\n",
       "    </tr>\n",
       "    <tr>\n",
       "      <th>11518</th>\n",
       "      <td>100001</td>\n",
       "      <td>1893</td>\n",
       "      <td>False</td>\n",
       "    </tr>\n",
       "    <tr>\n",
       "      <th>24915</th>\n",
       "      <td>100001</td>\n",
       "      <td>1738</td>\n",
       "      <td>False</td>\n",
       "    </tr>\n",
       "    <tr>\n",
       "      <th>34360</th>\n",
       "      <td>100001</td>\n",
       "      <td>1402</td>\n",
       "      <td>True</td>\n",
       "    </tr>\n",
       "    <tr>\n",
       "      <th>35155</th>\n",
       "      <td>100001</td>\n",
       "      <td>1129</td>\n",
       "      <td>False</td>\n",
       "    </tr>\n",
       "    <tr>\n",
       "      <th>639</th>\n",
       "      <td>100002</td>\n",
       "      <td>1235</td>\n",
       "      <td>False</td>\n",
       "    </tr>\n",
       "    <tr>\n",
       "      <th>32596</th>\n",
       "      <td>100002</td>\n",
       "      <td>1755</td>\n",
       "      <td>False</td>\n",
       "    </tr>\n",
       "    <tr>\n",
       "      <th>11641</th>\n",
       "      <td>100002</td>\n",
       "      <td>1917</td>\n",
       "      <td>True</td>\n",
       "    </tr>\n",
       "    <tr>\n",
       "      <th>6084</th>\n",
       "      <td>100002</td>\n",
       "      <td>1393</td>\n",
       "      <td>False</td>\n",
       "    </tr>\n",
       "    <tr>\n",
       "      <th>20836</th>\n",
       "      <td>100002</td>\n",
       "      <td>1170</td>\n",
       "      <td>False</td>\n",
       "    </tr>\n",
       "    <tr>\n",
       "      <th>22187</th>\n",
       "      <td>100003</td>\n",
       "      <td>1763</td>\n",
       "      <td>True</td>\n",
       "    </tr>\n",
       "  </tbody>\n",
       "</table>\n",
       "</div>"
      ],
      "text/plain": [
       "       user_id  meal_id  ordered\n",
       "35518   100001     1363     True\n",
       "11518   100001     1893    False\n",
       "24915   100001     1738    False\n",
       "34360   100001     1402     True\n",
       "35155   100001     1129    False\n",
       "639     100002     1235    False\n",
       "32596   100002     1755    False\n",
       "11641   100002     1917     True\n",
       "6084    100002     1393    False\n",
       "20836   100002     1170    False\n",
       "22187   100003     1763     True"
      ]
     },
     "metadata": {},
     "output_type": "display_data"
    },
    {
     "name": "stdout",
     "output_type": "stream",
     "text": [
      "\n",
      "Meals to be sent:\n"
     ]
    },
    {
     "data": {
      "text/html": [
       "<div>\n",
       "<style scoped>\n",
       "    .dataframe tbody tr th:only-of-type {\n",
       "        vertical-align: middle;\n",
       "    }\n",
       "\n",
       "    .dataframe tbody tr th {\n",
       "        vertical-align: top;\n",
       "    }\n",
       "\n",
       "    .dataframe thead th {\n",
       "        text-align: right;\n",
       "    }\n",
       "</style>\n",
       "<table border=\"1\" class=\"dataframe\">\n",
       "  <thead>\n",
       "    <tr style=\"text-align: right;\">\n",
       "      <th></th>\n",
       "      <th>user_id</th>\n",
       "      <th>meal_id</th>\n",
       "    </tr>\n",
       "  </thead>\n",
       "  <tbody>\n",
       "    <tr>\n",
       "      <th>0</th>\n",
       "      <td>108618</td>\n",
       "      <td>1663</td>\n",
       "    </tr>\n",
       "    <tr>\n",
       "      <th>1</th>\n",
       "      <td>110536</td>\n",
       "      <td>1254</td>\n",
       "    </tr>\n",
       "    <tr>\n",
       "      <th>2</th>\n",
       "      <td>104197</td>\n",
       "      <td>1798</td>\n",
       "    </tr>\n",
       "    <tr>\n",
       "      <th>56387</th>\n",
       "      <td>109167</td>\n",
       "      <td>1338</td>\n",
       "    </tr>\n",
       "    <tr>\n",
       "      <th>56388</th>\n",
       "      <td>102433</td>\n",
       "      <td>1979</td>\n",
       "    </tr>\n",
       "    <tr>\n",
       "      <th>56389</th>\n",
       "      <td>111917</td>\n",
       "      <td>1563</td>\n",
       "    </tr>\n",
       "  </tbody>\n",
       "</table>\n",
       "</div>"
      ],
      "text/plain": [
       "       user_id  meal_id\n",
       "0       108618     1663\n",
       "1       110536     1254\n",
       "2       104197     1798\n",
       "56387   109167     1338\n",
       "56388   102433     1979\n",
       "56389   111917     1563"
      ]
     },
     "metadata": {},
     "output_type": "display_data"
    },
    {
     "data": {
      "text/html": [
       "<div>\n",
       "<style scoped>\n",
       "    .dataframe tbody tr th:only-of-type {\n",
       "        vertical-align: middle;\n",
       "    }\n",
       "\n",
       "    .dataframe tbody tr th {\n",
       "        vertical-align: top;\n",
       "    }\n",
       "\n",
       "    .dataframe thead th {\n",
       "        text-align: right;\n",
       "    }\n",
       "</style>\n",
       "<table border=\"1\" class=\"dataframe\">\n",
       "  <thead>\n",
       "    <tr style=\"text-align: right;\">\n",
       "      <th></th>\n",
       "      <th>user_id</th>\n",
       "      <th>meal_id</th>\n",
       "    </tr>\n",
       "  </thead>\n",
       "  <tbody>\n",
       "    <tr>\n",
       "      <th>counts</th>\n",
       "      <td>56390</td>\n",
       "      <td>56390</td>\n",
       "    </tr>\n",
       "    <tr>\n",
       "      <th>uniques</th>\n",
       "      <td>11280</td>\n",
       "      <td>1000</td>\n",
       "    </tr>\n",
       "    <tr>\n",
       "      <th>missing</th>\n",
       "      <td>0</td>\n",
       "      <td>0</td>\n",
       "    </tr>\n",
       "    <tr>\n",
       "      <th>missing_perc</th>\n",
       "      <td>0%</td>\n",
       "      <td>0%</td>\n",
       "    </tr>\n",
       "    <tr>\n",
       "      <th>types</th>\n",
       "      <td>numeric</td>\n",
       "      <td>numeric</td>\n",
       "    </tr>\n",
       "  </tbody>\n",
       "</table>\n",
       "</div>"
      ],
      "text/plain": [
       "              user_id  meal_id\n",
       "counts          56390    56390\n",
       "uniques         11280     1000\n",
       "missing             0        0\n",
       "missing_perc       0%       0%\n",
       "types         numeric  numeric"
      ]
     },
     "metadata": {},
     "output_type": "display_data"
    },
    {
     "name": "stdout",
     "output_type": "stream",
     "text": [
      "\n",
      "Meals to be sent sorted:\n"
     ]
    },
    {
     "data": {
      "text/html": [
       "<div>\n",
       "<style scoped>\n",
       "    .dataframe tbody tr th:only-of-type {\n",
       "        vertical-align: middle;\n",
       "    }\n",
       "\n",
       "    .dataframe tbody tr th {\n",
       "        vertical-align: top;\n",
       "    }\n",
       "\n",
       "    .dataframe thead th {\n",
       "        text-align: right;\n",
       "    }\n",
       "</style>\n",
       "<table border=\"1\" class=\"dataframe\">\n",
       "  <thead>\n",
       "    <tr style=\"text-align: right;\">\n",
       "      <th></th>\n",
       "      <th>user_id</th>\n",
       "      <th>meal_id</th>\n",
       "    </tr>\n",
       "  </thead>\n",
       "  <tbody>\n",
       "    <tr>\n",
       "      <th>25186</th>\n",
       "      <td>100000</td>\n",
       "      <td>1361</td>\n",
       "    </tr>\n",
       "    <tr>\n",
       "      <th>2277</th>\n",
       "      <td>100000</td>\n",
       "      <td>1646</td>\n",
       "    </tr>\n",
       "    <tr>\n",
       "      <th>40996</th>\n",
       "      <td>100000</td>\n",
       "      <td>1857</td>\n",
       "    </tr>\n",
       "    <tr>\n",
       "      <th>46298</th>\n",
       "      <td>100000</td>\n",
       "      <td>1657</td>\n",
       "    </tr>\n",
       "    <tr>\n",
       "      <th>55526</th>\n",
       "      <td>100000</td>\n",
       "      <td>1486</td>\n",
       "    </tr>\n",
       "    <tr>\n",
       "      <th>13735</th>\n",
       "      <td>100001</td>\n",
       "      <td>1094</td>\n",
       "    </tr>\n",
       "    <tr>\n",
       "      <th>8302</th>\n",
       "      <td>100001</td>\n",
       "      <td>1002</td>\n",
       "    </tr>\n",
       "    <tr>\n",
       "      <th>53972</th>\n",
       "      <td>100001</td>\n",
       "      <td>1315</td>\n",
       "    </tr>\n",
       "    <tr>\n",
       "      <th>29073</th>\n",
       "      <td>100001</td>\n",
       "      <td>1521</td>\n",
       "    </tr>\n",
       "    <tr>\n",
       "      <th>35166</th>\n",
       "      <td>100001</td>\n",
       "      <td>1049</td>\n",
       "    </tr>\n",
       "    <tr>\n",
       "      <th>51054</th>\n",
       "      <td>100003</td>\n",
       "      <td>1954</td>\n",
       "    </tr>\n",
       "  </tbody>\n",
       "</table>\n",
       "</div>"
      ],
      "text/plain": [
       "       user_id  meal_id\n",
       "25186   100000     1361\n",
       "2277    100000     1646\n",
       "40996   100000     1857\n",
       "46298   100000     1657\n",
       "55526   100000     1486\n",
       "13735   100001     1094\n",
       "8302    100001     1002\n",
       "53972   100001     1315\n",
       "29073   100001     1521\n",
       "35166   100001     1049\n",
       "51054   100003     1954"
      ]
     },
     "metadata": {},
     "output_type": "display_data"
    }
   ],
   "source": [
    "meal_features = pd.read_csv('meal_features.csv')\n",
    "meals_seen = pd.read_csv('meals_previously_seen.csv')\n",
    "meals_sent = pd.read_csv('meals_to_be_sent.csv')\n",
    "user_features = pd.read_csv('user_features.csv')\n",
    "\n",
    "views = [0, 1, 2, -3, -2, -1]\n",
    "\n",
    "print(\"User features:\")\n",
    "display(user_features.iloc[views], dfs(user_features).columns_stats)\n",
    "\n",
    "print(\"\\nMeal Features:\") \n",
    "display(meal_features.iloc[views], dfs(meal_features).columns_stats)\n",
    "\n",
    "print(\"\\nMeals previously seen:\")\n",
    "display(meals_seen.iloc[views], dfs(meals_seen).columns_stats)\n",
    "\n",
    "print(\"\\nMeals previously seen sorted:\")\n",
    "meals_seen = meals_seen.sort_values(by=['user_id'])\n",
    "display(meals_seen.head(11))\n",
    "\n",
    "print(\"\\nMeals to be sent:\")\n",
    "display(meals_sent.iloc[views], dfs(meals_sent).columns_stats)\n",
    "\n",
    "print(\"\\nMeals to be sent sorted:\")\n",
    "meals_sent = meals_sent.sort_values(by=['user_id'])\n",
    "display(meals_sent.head(11))"
   ]
  },
  {
   "cell_type": "markdown",
   "metadata": {},
   "source": [
    "The 'meals to be sent' file is what can be used to create the output. It presents sets of five meal ids attached to a single user id, but is unlabeled. So we can try to predict which of the five meals a user will order, if any.\n",
    "\n",
    "How can we do this? By looking at what users had ordered in the past. There are two columns for this, ordered_yesterday, which is attached to the 'user feature' file, and the 'meals previously seen' file, which also presents sets of five meal ids attached to a single user id, but this time it displays whether a meal has been ordered or not. It shows that a user may have ordered multiple meals. But when? \n",
    "\n",
    "1. If yesterday, then there should be consistency between a user's orders and the 'ordered_yesterday' column in the 'user features' file by joining on users.\n",
    "2. If another day, then there must be inconsistency on the above. However, this option seems unlikely.\n",
    "3. If it is over the duration of the subscription, then there will be also inconsistency. This seems far more likely than 2).\n",
    "\n",
    "Let's see if we can use the data to figure this out. We'll begin by operating under the assumption that 3) is correct."
   ]
  },
  {
   "cell_type": "code",
   "execution_count": 3,
   "metadata": {},
   "outputs": [
    {
     "name": "stdout",
     "output_type": "stream",
     "text": [
      "To predict:\n"
     ]
    },
    {
     "data": {
      "text/html": [
       "<div>\n",
       "<style scoped>\n",
       "    .dataframe tbody tr th:only-of-type {\n",
       "        vertical-align: middle;\n",
       "    }\n",
       "\n",
       "    .dataframe tbody tr th {\n",
       "        vertical-align: top;\n",
       "    }\n",
       "\n",
       "    .dataframe thead th {\n",
       "        text-align: right;\n",
       "    }\n",
       "</style>\n",
       "<table border=\"1\" class=\"dataframe\">\n",
       "  <thead>\n",
       "    <tr style=\"text-align: right;\">\n",
       "      <th></th>\n",
       "      <th>user_id</th>\n",
       "      <th>meal_id</th>\n",
       "      <th>cuisine</th>\n",
       "      <th>large_portion</th>\n",
       "      <th>number_of_reviews</th>\n",
       "      <th>avg_review_score</th>\n",
       "      <th>number_of_subscription_cycles</th>\n",
       "      <th>ordered_yesterday</th>\n",
       "      <th>favorite_cuisines</th>\n",
       "    </tr>\n",
       "  </thead>\n",
       "  <tbody>\n",
       "    <tr>\n",
       "      <th>0</th>\n",
       "      <td>100000</td>\n",
       "      <td>1361</td>\n",
       "      <td>korean</td>\n",
       "      <td>True</td>\n",
       "      <td>662</td>\n",
       "      <td>-1.000000</td>\n",
       "      <td>1</td>\n",
       "      <td>True</td>\n",
       "      <td>['thai', 'korean']</td>\n",
       "    </tr>\n",
       "    <tr>\n",
       "      <th>1</th>\n",
       "      <td>100000</td>\n",
       "      <td>1646</td>\n",
       "      <td>korean</td>\n",
       "      <td>True</td>\n",
       "      <td>242</td>\n",
       "      <td>4.357342</td>\n",
       "      <td>1</td>\n",
       "      <td>True</td>\n",
       "      <td>['thai', 'korean']</td>\n",
       "    </tr>\n",
       "    <tr>\n",
       "      <th>2</th>\n",
       "      <td>100000</td>\n",
       "      <td>1857</td>\n",
       "      <td>vegetarian</td>\n",
       "      <td>True</td>\n",
       "      <td>102</td>\n",
       "      <td>5.000000</td>\n",
       "      <td>1</td>\n",
       "      <td>True</td>\n",
       "      <td>['thai', 'korean']</td>\n",
       "    </tr>\n",
       "    <tr>\n",
       "      <th>56387</th>\n",
       "      <td>111999</td>\n",
       "      <td>1111</td>\n",
       "      <td>japanese</td>\n",
       "      <td>True</td>\n",
       "      <td>525</td>\n",
       "      <td>3.370569</td>\n",
       "      <td>0</td>\n",
       "      <td>False</td>\n",
       "      <td>['chinese', 'mediterranean', 'japanese', 'kore...</td>\n",
       "    </tr>\n",
       "    <tr>\n",
       "      <th>56388</th>\n",
       "      <td>111999</td>\n",
       "      <td>1750</td>\n",
       "      <td>vegetarian</td>\n",
       "      <td>True</td>\n",
       "      <td>98</td>\n",
       "      <td>1.159617</td>\n",
       "      <td>0</td>\n",
       "      <td>False</td>\n",
       "      <td>['chinese', 'mediterranean', 'japanese', 'kore...</td>\n",
       "    </tr>\n",
       "    <tr>\n",
       "      <th>56389</th>\n",
       "      <td>111999</td>\n",
       "      <td>1355</td>\n",
       "      <td>japanese</td>\n",
       "      <td>True</td>\n",
       "      <td>650</td>\n",
       "      <td>0.704539</td>\n",
       "      <td>0</td>\n",
       "      <td>False</td>\n",
       "      <td>['chinese', 'mediterranean', 'japanese', 'kore...</td>\n",
       "    </tr>\n",
       "  </tbody>\n",
       "</table>\n",
       "</div>"
      ],
      "text/plain": [
       "       user_id  meal_id     cuisine  large_portion  number_of_reviews  \\\n",
       "0       100000     1361      korean           True                662   \n",
       "1       100000     1646      korean           True                242   \n",
       "2       100000     1857  vegetarian           True                102   \n",
       "56387   111999     1111    japanese           True                525   \n",
       "56388   111999     1750  vegetarian           True                 98   \n",
       "56389   111999     1355    japanese           True                650   \n",
       "\n",
       "       avg_review_score number_of_subscription_cycles  ordered_yesterday  \\\n",
       "0             -1.000000                             1               True   \n",
       "1              4.357342                             1               True   \n",
       "2              5.000000                             1               True   \n",
       "56387          3.370569                             0              False   \n",
       "56388          1.159617                             0              False   \n",
       "56389          0.704539                             0              False   \n",
       "\n",
       "                                       favorite_cuisines  \n",
       "0                                     ['thai', 'korean']  \n",
       "1                                     ['thai', 'korean']  \n",
       "2                                     ['thai', 'korean']  \n",
       "56387  ['chinese', 'mediterranean', 'japanese', 'kore...  \n",
       "56388  ['chinese', 'mediterranean', 'japanese', 'kore...  \n",
       "56389  ['chinese', 'mediterranean', 'japanese', 'kore...  "
      ]
     },
     "metadata": {},
     "output_type": "display_data"
    },
    {
     "data": {
      "text/html": [
       "<div>\n",
       "<style scoped>\n",
       "    .dataframe tbody tr th:only-of-type {\n",
       "        vertical-align: middle;\n",
       "    }\n",
       "\n",
       "    .dataframe tbody tr th {\n",
       "        vertical-align: top;\n",
       "    }\n",
       "\n",
       "    .dataframe thead th {\n",
       "        text-align: right;\n",
       "    }\n",
       "</style>\n",
       "<table border=\"1\" class=\"dataframe\">\n",
       "  <thead>\n",
       "    <tr style=\"text-align: right;\">\n",
       "      <th></th>\n",
       "      <th>user_id</th>\n",
       "      <th>meal_id</th>\n",
       "      <th>cuisine</th>\n",
       "      <th>large_portion</th>\n",
       "      <th>number_of_reviews</th>\n",
       "      <th>avg_review_score</th>\n",
       "      <th>number_of_subscription_cycles</th>\n",
       "      <th>ordered_yesterday</th>\n",
       "      <th>favorite_cuisines</th>\n",
       "    </tr>\n",
       "  </thead>\n",
       "  <tbody>\n",
       "    <tr>\n",
       "      <th>counts</th>\n",
       "      <td>56390</td>\n",
       "      <td>56390</td>\n",
       "      <td>56390</td>\n",
       "      <td>56390</td>\n",
       "      <td>56390</td>\n",
       "      <td>56390</td>\n",
       "      <td>54056</td>\n",
       "      <td>56390</td>\n",
       "      <td>56390</td>\n",
       "    </tr>\n",
       "    <tr>\n",
       "      <th>uniques</th>\n",
       "      <td>11280</td>\n",
       "      <td>1000</td>\n",
       "      <td>11</td>\n",
       "      <td>2</td>\n",
       "      <td>602</td>\n",
       "      <td>828</td>\n",
       "      <td>7</td>\n",
       "      <td>2</td>\n",
       "      <td>7848</td>\n",
       "    </tr>\n",
       "    <tr>\n",
       "      <th>missing</th>\n",
       "      <td>0</td>\n",
       "      <td>0</td>\n",
       "      <td>0</td>\n",
       "      <td>0</td>\n",
       "      <td>0</td>\n",
       "      <td>0</td>\n",
       "      <td>2334</td>\n",
       "      <td>0</td>\n",
       "      <td>0</td>\n",
       "    </tr>\n",
       "    <tr>\n",
       "      <th>missing_perc</th>\n",
       "      <td>0%</td>\n",
       "      <td>0%</td>\n",
       "      <td>0%</td>\n",
       "      <td>0%</td>\n",
       "      <td>0%</td>\n",
       "      <td>0%</td>\n",
       "      <td>4.14%</td>\n",
       "      <td>0%</td>\n",
       "      <td>0%</td>\n",
       "    </tr>\n",
       "    <tr>\n",
       "      <th>types</th>\n",
       "      <td>numeric</td>\n",
       "      <td>numeric</td>\n",
       "      <td>categorical</td>\n",
       "      <td>bool</td>\n",
       "      <td>numeric</td>\n",
       "      <td>numeric</td>\n",
       "      <td>categorical</td>\n",
       "      <td>bool</td>\n",
       "      <td>categorical</td>\n",
       "    </tr>\n",
       "  </tbody>\n",
       "</table>\n",
       "</div>"
      ],
      "text/plain": [
       "              user_id  meal_id      cuisine large_portion number_of_reviews  \\\n",
       "counts          56390    56390        56390         56390             56390   \n",
       "uniques         11280     1000           11             2               602   \n",
       "missing             0        0            0             0                 0   \n",
       "missing_perc       0%       0%           0%            0%                0%   \n",
       "types         numeric  numeric  categorical          bool           numeric   \n",
       "\n",
       "             avg_review_score number_of_subscription_cycles ordered_yesterday  \\\n",
       "counts                  56390                         54056             56390   \n",
       "uniques                   828                             7                 2   \n",
       "missing                     0                          2334                 0   \n",
       "missing_perc               0%                         4.14%                0%   \n",
       "types                 numeric                   categorical              bool   \n",
       "\n",
       "             favorite_cuisines  \n",
       "counts                   56390  \n",
       "uniques                   7848  \n",
       "missing                      0  \n",
       "missing_perc                0%  \n",
       "types              categorical  "
      ]
     },
     "metadata": {},
     "output_type": "display_data"
    },
    {
     "name": "stdout",
     "output_type": "stream",
     "text": [
      "\n",
      "Labeled data:\n"
     ]
    },
    {
     "data": {
      "text/html": [
       "<div>\n",
       "<style scoped>\n",
       "    .dataframe tbody tr th:only-of-type {\n",
       "        vertical-align: middle;\n",
       "    }\n",
       "\n",
       "    .dataframe tbody tr th {\n",
       "        vertical-align: top;\n",
       "    }\n",
       "\n",
       "    .dataframe thead th {\n",
       "        text-align: right;\n",
       "    }\n",
       "</style>\n",
       "<table border=\"1\" class=\"dataframe\">\n",
       "  <thead>\n",
       "    <tr style=\"text-align: right;\">\n",
       "      <th></th>\n",
       "      <th>user_id</th>\n",
       "      <th>number_of_subscription_cycles</th>\n",
       "      <th>ordered_yesterday</th>\n",
       "      <th>favorite_cuisines</th>\n",
       "      <th>meal_id</th>\n",
       "      <th>ordered</th>\n",
       "      <th>cuisine</th>\n",
       "      <th>large_portion</th>\n",
       "      <th>number_of_reviews</th>\n",
       "      <th>avg_review_score</th>\n",
       "    </tr>\n",
       "  </thead>\n",
       "  <tbody>\n",
       "    <tr>\n",
       "      <th>0</th>\n",
       "      <td>104939</td>\n",
       "      <td>2</td>\n",
       "      <td>True</td>\n",
       "      <td>['korean', 'italian', 'chinese', 'vegetarian',...</td>\n",
       "      <td>1212.0</td>\n",
       "      <td>False</td>\n",
       "      <td>middle-eastern</td>\n",
       "      <td>True</td>\n",
       "      <td>789.0</td>\n",
       "      <td>1.461363</td>\n",
       "    </tr>\n",
       "    <tr>\n",
       "      <th>1</th>\n",
       "      <td>104939</td>\n",
       "      <td>2</td>\n",
       "      <td>True</td>\n",
       "      <td>['korean', 'italian', 'chinese', 'vegetarian',...</td>\n",
       "      <td>1195.0</td>\n",
       "      <td>True</td>\n",
       "      <td>vegetarian</td>\n",
       "      <td>True</td>\n",
       "      <td>358.0</td>\n",
       "      <td>1.018924</td>\n",
       "    </tr>\n",
       "    <tr>\n",
       "      <th>2</th>\n",
       "      <td>104939</td>\n",
       "      <td>2</td>\n",
       "      <td>True</td>\n",
       "      <td>['korean', 'italian', 'chinese', 'vegetarian',...</td>\n",
       "      <td>1569.0</td>\n",
       "      <td>False</td>\n",
       "      <td>middle-eastern</td>\n",
       "      <td>True</td>\n",
       "      <td>107.0</td>\n",
       "      <td>-1.000000</td>\n",
       "    </tr>\n",
       "    <tr>\n",
       "      <th>35987</th>\n",
       "      <td>108228</td>\n",
       "      <td>6+</td>\n",
       "      <td>True</td>\n",
       "      <td>['latin', 'japanese', 'thai', 'vegetarian', 'i...</td>\n",
       "      <td>1085.0</td>\n",
       "      <td>False</td>\n",
       "      <td>italian</td>\n",
       "      <td>True</td>\n",
       "      <td>659.0</td>\n",
       "      <td>3.361859</td>\n",
       "    </tr>\n",
       "    <tr>\n",
       "      <th>35988</th>\n",
       "      <td>108228</td>\n",
       "      <td>6+</td>\n",
       "      <td>True</td>\n",
       "      <td>['latin', 'japanese', 'thai', 'vegetarian', 'i...</td>\n",
       "      <td>1840.0</td>\n",
       "      <td>True</td>\n",
       "      <td>middle-eastern</td>\n",
       "      <td>True</td>\n",
       "      <td>628.0</td>\n",
       "      <td>2.191802</td>\n",
       "    </tr>\n",
       "    <tr>\n",
       "      <th>35989</th>\n",
       "      <td>108228</td>\n",
       "      <td>6+</td>\n",
       "      <td>True</td>\n",
       "      <td>['latin', 'japanese', 'thai', 'vegetarian', 'i...</td>\n",
       "      <td>1777.0</td>\n",
       "      <td>True</td>\n",
       "      <td>middle-eastern</td>\n",
       "      <td>True</td>\n",
       "      <td>353.0</td>\n",
       "      <td>5.000000</td>\n",
       "    </tr>\n",
       "  </tbody>\n",
       "</table>\n",
       "</div>"
      ],
      "text/plain": [
       "       user_id number_of_subscription_cycles  ordered_yesterday  \\\n",
       "0       104939                             2               True   \n",
       "1       104939                             2               True   \n",
       "2       104939                             2               True   \n",
       "35987   108228                            6+               True   \n",
       "35988   108228                            6+               True   \n",
       "35989   108228                            6+               True   \n",
       "\n",
       "                                       favorite_cuisines  meal_id ordered  \\\n",
       "0      ['korean', 'italian', 'chinese', 'vegetarian',...   1212.0   False   \n",
       "1      ['korean', 'italian', 'chinese', 'vegetarian',...   1195.0    True   \n",
       "2      ['korean', 'italian', 'chinese', 'vegetarian',...   1569.0   False   \n",
       "35987  ['latin', 'japanese', 'thai', 'vegetarian', 'i...   1085.0   False   \n",
       "35988  ['latin', 'japanese', 'thai', 'vegetarian', 'i...   1840.0    True   \n",
       "35989  ['latin', 'japanese', 'thai', 'vegetarian', 'i...   1777.0    True   \n",
       "\n",
       "              cuisine large_portion  number_of_reviews  avg_review_score  \n",
       "0      middle-eastern          True              789.0          1.461363  \n",
       "1          vegetarian          True              358.0          1.018924  \n",
       "2      middle-eastern          True              107.0         -1.000000  \n",
       "35987         italian          True              659.0          3.361859  \n",
       "35988  middle-eastern          True              628.0          2.191802  \n",
       "35989  middle-eastern          True              353.0          5.000000  "
      ]
     },
     "metadata": {},
     "output_type": "display_data"
    },
    {
     "data": {
      "text/html": [
       "<div>\n",
       "<style scoped>\n",
       "    .dataframe tbody tr th:only-of-type {\n",
       "        vertical-align: middle;\n",
       "    }\n",
       "\n",
       "    .dataframe tbody tr th {\n",
       "        vertical-align: top;\n",
       "    }\n",
       "\n",
       "    .dataframe thead th {\n",
       "        text-align: right;\n",
       "    }\n",
       "</style>\n",
       "<table border=\"1\" class=\"dataframe\">\n",
       "  <thead>\n",
       "    <tr style=\"text-align: right;\">\n",
       "      <th></th>\n",
       "      <th>user_id</th>\n",
       "      <th>number_of_subscription_cycles</th>\n",
       "      <th>ordered_yesterday</th>\n",
       "      <th>favorite_cuisines</th>\n",
       "      <th>meal_id</th>\n",
       "      <th>ordered</th>\n",
       "      <th>cuisine</th>\n",
       "      <th>large_portion</th>\n",
       "      <th>number_of_reviews</th>\n",
       "      <th>avg_review_score</th>\n",
       "    </tr>\n",
       "  </thead>\n",
       "  <tbody>\n",
       "    <tr>\n",
       "      <th>counts</th>\n",
       "      <td>35990</td>\n",
       "      <td>34425</td>\n",
       "      <td>35990</td>\n",
       "      <td>35990</td>\n",
       "      <td>35990</td>\n",
       "      <td>35990</td>\n",
       "      <td>35990</td>\n",
       "      <td>35990</td>\n",
       "      <td>35990</td>\n",
       "      <td>35990</td>\n",
       "    </tr>\n",
       "    <tr>\n",
       "      <th>uniques</th>\n",
       "      <td>7200</td>\n",
       "      <td>7</td>\n",
       "      <td>2</td>\n",
       "      <td>5174</td>\n",
       "      <td>1000</td>\n",
       "      <td>2</td>\n",
       "      <td>11</td>\n",
       "      <td>2</td>\n",
       "      <td>602</td>\n",
       "      <td>828</td>\n",
       "    </tr>\n",
       "    <tr>\n",
       "      <th>missing</th>\n",
       "      <td>0</td>\n",
       "      <td>1565</td>\n",
       "      <td>0</td>\n",
       "      <td>0</td>\n",
       "      <td>0</td>\n",
       "      <td>0</td>\n",
       "      <td>0</td>\n",
       "      <td>0</td>\n",
       "      <td>0</td>\n",
       "      <td>0</td>\n",
       "    </tr>\n",
       "    <tr>\n",
       "      <th>missing_perc</th>\n",
       "      <td>0%</td>\n",
       "      <td>4.35%</td>\n",
       "      <td>0%</td>\n",
       "      <td>0%</td>\n",
       "      <td>0%</td>\n",
       "      <td>0%</td>\n",
       "      <td>0%</td>\n",
       "      <td>0%</td>\n",
       "      <td>0%</td>\n",
       "      <td>0%</td>\n",
       "    </tr>\n",
       "    <tr>\n",
       "      <th>types</th>\n",
       "      <td>numeric</td>\n",
       "      <td>categorical</td>\n",
       "      <td>bool</td>\n",
       "      <td>categorical</td>\n",
       "      <td>numeric</td>\n",
       "      <td>bool</td>\n",
       "      <td>categorical</td>\n",
       "      <td>bool</td>\n",
       "      <td>numeric</td>\n",
       "      <td>numeric</td>\n",
       "    </tr>\n",
       "  </tbody>\n",
       "</table>\n",
       "</div>"
      ],
      "text/plain": [
       "              user_id number_of_subscription_cycles ordered_yesterday  \\\n",
       "counts          35990                         34425             35990   \n",
       "uniques          7200                             7                 2   \n",
       "missing             0                          1565                 0   \n",
       "missing_perc       0%                         4.35%                0%   \n",
       "types         numeric                   categorical              bool   \n",
       "\n",
       "             favorite_cuisines  meal_id ordered      cuisine large_portion  \\\n",
       "counts                   35990    35990   35990        35990         35990   \n",
       "uniques                   5174     1000       2           11             2   \n",
       "missing                      0        0       0            0             0   \n",
       "missing_perc                0%       0%      0%           0%            0%   \n",
       "types              categorical  numeric    bool  categorical          bool   \n",
       "\n",
       "             number_of_reviews avg_review_score  \n",
       "counts                   35990            35990  \n",
       "uniques                    602              828  \n",
       "missing                      0                0  \n",
       "missing_perc                0%               0%  \n",
       "types                  numeric          numeric  "
      ]
     },
     "metadata": {},
     "output_type": "display_data"
    },
    {
     "data": {
      "text/plain": [
       "(None, None)"
      ]
     },
     "execution_count": 3,
     "metadata": {},
     "output_type": "execute_result"
    }
   ],
   "source": [
    "# For the test df, merge our meals sent dataframe with meal features and user features, keeping the structure\n",
    "test_df = pd.merge(meals_sent, meal_features, on='meal_id', how='left').merge(user_features, on='user_id', how='left')\n",
    "print('To predict:'), display(test_df.iloc[views], dfs(test_df).columns_stats)\n",
    "\n",
    "# For the labeled df, start with user features, which has 'ordered yesterday'\n",
    "labeled_df = pd.merge(user_features, meals_seen, on='user_id', how='left').merge(meal_features, on='meal_id', \n",
    "                                                                                 how='left')\n",
    "labeled_df = labeled_df.dropna(subset=['meal_id'])\n",
    "print('\\nLabeled data:'), display(labeled_df.iloc[views], dfs(labeled_df).columns_stats)"
   ]
  },
  {
   "cell_type": "code",
   "execution_count": 4,
   "metadata": {},
   "outputs": [
    {
     "name": "stdout",
     "output_type": "stream",
     "text": [
      "Number of users who have positive order history but did not order yesterday: 2722\n",
      "Number of users who have no order history but ordered yesterday: 439\n"
     ]
    }
   ],
   "source": [
    "print(\"Number of users who have positive order history but did not order yesterday:\", \n",
    "      len(labeled_df.loc[(labeled_df['ordered'] == True) & (labeled_df['ordered_yesterday'] == False)]))\n",
    "\n",
    "ordered_yesterday_sz = labeled_df.loc[labeled_df['ordered_yesterday'] == True].groupby(['user_id', 'ordered']).size()\n",
    "ordered_yesterday_sz = ordered_yesterday_sz.reset_index()\n",
    "no_order_history = ordered_yesterday_sz.loc[ordered_yesterday_sz['ordered'] == False]\n",
    "print(\"Number of users who have no order history but ordered yesterday:\", \n",
    "      len(no_order_history.loc[no_order_history[0] == 5]))"
   ]
  },
  {
   "cell_type": "markdown",
   "metadata": {},
   "source": [
    "The tests in the cell above confirms that the meal ordered and ordered_yesterday columns are not linked at all. \n",
    "\n",
    "Continuing to operate under the assumption in option 3), this confirms that there isn't enough information to determine:\n",
    "\n",
    "* Exactly which meals were ordered yesterday\n",
    "* (and therefore) which users ordered what meal yesterday\n",
    "* When meals were ordered by users\n",
    "* How often a meal was ordered (except yesterday and in the case of 0s) by a user\n",
    "\n",
    "We do know:\n",
    "\n",
    "* Which users ordered a meal yesterday\n",
    "* Which meals were not ordered by users yesterday if no meal was ordered\n",
    "* Which users ordered what meal sometime within (presumably) the subscription duration\n",
    "\n",
    "So in service of using past orders to predict future orders, we can make educated guesses as to:\n",
    "\n",
    "* Which meals may have been ordered yesterday\n",
    "* Which meals may have been ordered on specific dates in the past\n",
    "\n",
    "Let's focus on which meals may have been ordered yesterday, as can use this as the basis for the target column in a model and it relies on fewer assumptions."
   ]
  },
  {
   "cell_type": "markdown",
   "metadata": {},
   "source": [
    "## Engineering a Target\n",
    "\n",
    "We'll start by looking at the thing most closely resembling a target, the 'ordered_yesterday' columns."
   ]
  },
  {
   "cell_type": "code",
   "execution_count": 5,
   "metadata": {},
   "outputs": [
    {
     "data": {
      "text/plain": [
       "\"True\" count      8400\n",
       "\"True\" perc        70%\n",
       "\"False\" count     3600\n",
       "\"False\" perc       30%\n",
       "counts           12000\n",
       "uniques              2\n",
       "missing              0\n",
       "missing_perc        0%\n",
       "types             bool\n",
       "Name: ordered_yesterday, dtype: object"
      ]
     },
     "execution_count": 5,
     "metadata": {},
     "output_type": "execute_result"
    },
    {
     "data": {
      "image/png": "[encoded data removed]",
      "text/plain": [
       "<matplotlib.figure.Figure at 0x11113ccc0>"
      ]
     },
     "metadata": {},
     "output_type": "display_data"
    }
   ],
   "source": [
    "user_features['ordered_yesterday'].value_counts().plot.bar(title=\"Ordered Yesterday or not\", color=['blue', 'red'], \n",
    "                                                           grid=True)\n",
    "dfs(user_features)['ordered_yesterday']"
   ]
  },
  {
   "cell_type": "markdown",
   "metadata": {},
   "source": [
    "70% of users ordered a meal yesterday. Since according to the instructions, \"we will send 5 new meal options to a user and hope that one of them is what they want for lunch that day\", we'll assume that a user can only pick one meal. That's a one-in-five chance, and 1/5th of 70 is 14. So with this information, we should expect about 14% chance that a given meal will be ordered and an 86% chance that a meal will not be ordered."
   ]
  },
  {
   "cell_type": "code",
   "execution_count": 6,
   "metadata": {},
   "outputs": [
    {
     "name": "stdout",
     "output_type": "stream",
     "text": [
      "Percent of meals previously seen: 0.56 %\n"
     ]
    }
   ],
   "source": [
    "print(\"Percent of meals previously seen:\", np.round(len(pd.merge(meals_sent, meals_seen, \n",
    "                                                        on=['user_id', 'meal_id']))*100/len(meals_seen), 2), '%')"
   ]
  },
  {
   "cell_type": "markdown",
   "metadata": {},
   "source": [
    "It looks like the vast majority of most of the meals sent will be unseen by users.\n",
    "\n",
    "We don't know exactly what meals were ordered yesterday, but we can look at the data and make an educated guess if we know the following: *If a meal had been ordered in the past, what is the estimated likelihood they would choose it again over another option?*"
   ]
  },
  {
   "cell_type": "code",
   "execution_count": 7,
   "metadata": {},
   "outputs": [
    {
     "name": "stderr",
     "output_type": "stream",
     "text": [
      "/Users/matthewignal/anaconda3/lib/python3.6/site-packages/ipykernel_launcher.py:4: SettingWithCopyWarning: \n",
      "A value is trying to be set on a copy of a slice from a DataFrame.\n",
      "Try using .loc[row_indexer,col_indexer] = value instead\n",
      "\n",
      "See the caveats in the documentation: http://pandas.pydata.org/pandas-docs/stable/indexing.html#indexing-view-versus-copy\n",
      "  after removing the cwd from sys.path.\n"
     ]
    },
    {
     "name": "stdout",
     "output_type": "stream",
     "text": [
      "Set of number of subsription cycles {nan, '2', '6+', '4', '3', '1', '5', '0'}\n",
      "Chance of a new, unique order if there is an order history 0.158\n"
     ]
    },
    {
     "name": "stderr",
     "output_type": "stream",
     "text": [
      "/Users/matthewignal/anaconda3/lib/python3.6/site-packages/ipykernel_launcher.py:6: SettingWithCopyWarning: \n",
      "A value is trying to be set on a copy of a slice from a DataFrame.\n",
      "Try using .loc[row_indexer,col_indexer] = value instead\n",
      "\n",
      "See the caveats in the documentation: http://pandas.pydata.org/pandas-docs/stable/indexing.html#indexing-view-versus-copy\n",
      "  \n"
     ]
    }
   ],
   "source": [
    "# Filter by meals with true order \n",
    "ordered_true = labeled_df.loc[labeled_df['ordered'] == True]\n",
    "# Get number of different orders\n",
    "ordered_true['order_count'] = ordered_true.groupby('user_id')['ordered'].transform(lambda x: x.count())\n",
    "# Count the number of different meals ordered by users, and subtract one since we're looking for new choices\n",
    "ordered_true['unique_order_count'] = ordered_true.groupby('user_id')['ordered'].transform(lambda x: x.count() - 1)\n",
    "# Filter users with at least one new choice\n",
    "ordered_true = ordered_true.loc[ordered_true['unique_order_count'] >= 1]\n",
    "\n",
    "# Next let's try to find the number of days a user had to make a unique order.\n",
    "print(\"Set of number of subsription cycles\", set(labeled_df['number_of_subscription_cycles']))\n",
    "# There's a 6+ and nan in number of subscription cycles. Let's play it safe and only include 1-5.\n",
    "ordered_true = ordered_true.loc[ordered_true['number_of_subscription_cycles'].isin(['1', '2', '3', '4', '5'])]\n",
    "# We've been instructed that the number of days should be 16.\n",
    "num_days = 16\n",
    "\n",
    "# Find avg of unique orders divided by 70% (the % of users who ordered yesterday) of the number of days to choose from\n",
    "chance_of_new_order = np.mean(ordered_true['unique_order_count']/(num_days*0.7))\n",
    "print(\"Chance of a new, unique order if there is an order history\", np.round(chance_of_new_order, 3))"
   ]
  },
  {
   "cell_type": "markdown",
   "metadata": {},
   "source": [
    "Next we'll estimate if the people who ordered yesterday ordered the something they had previously ordered or \n",
    "something new by shuffling the data, filtering by those who ordered yesterday. If they had, then there is about a 8% chance they ordered something new, per the estimate above. We'll randomly select from the new orders and previous orders, as there is not a lot of information to go on."
   ]
  },
  {
   "cell_type": "code",
   "execution_count": 8,
   "metadata": {},
   "outputs": [
    {
     "data": {
      "text/plain": [
       "\"False\" count     31303\n",
       "\"False\" perc     86.98%\n",
       "\"True\" count       4687\n",
       "\"True\" perc      13.02%\n",
       "counts            35990\n",
       "uniques               2\n",
       "missing               0\n",
       "missing_perc         0%\n",
       "types              bool\n",
       "Name: meal_ordered_yesterday, dtype: object"
      ]
     },
     "execution_count": 8,
     "metadata": {},
     "output_type": "execute_result"
    },
    {
     "data": {
      "image/png": "[encoded data removed]",
      "text/plain": [
       "<matplotlib.figure.Figure at 0x10d3ad358>"
      ]
     },
     "metadata": {},
     "output_type": "display_data"
    }
   ],
   "source": [
    "from random import sample \n",
    "  \n",
    "# Shuffle the data and filter by those who ordered yesterday, select the first instance per user\n",
    "labeled_df = labeled_df.sample(frac=1).reset_index(drop=True)\n",
    "labeled_true = labeled_df.loc[labeled_df['ordered_yesterday'] == True]\n",
    "df_ordered_first = labeled_true.drop_duplicates(subset=['user_id', 'ordered'], keep='first')\n",
    "\n",
    "# Grab indices of true and false indices from yesterday\n",
    "df_ordered_first_indices = list(df_ordered_first.loc[(df_ordered_first['ordered'] == True)].index)\n",
    "df_not_ordered_first_indices = list(df_ordered_first.loc[(df_ordered_first['ordered'] == False)].index)\n",
    "\n",
    "# Sample randomly using the chance of a new order\n",
    "df_ordered_first_indices = sample(df_ordered_first_indices, int((1-chance_of_new_order)*len(df_ordered_first_indices))) \n",
    "df_not_ordered_first_indices = sample(df_not_ordered_first_indices, \n",
    "                                      int(chance_of_new_order*len(df_not_ordered_first_indices))) \n",
    "df_ordered_yesterday_indices = df_ordered_first_indices + df_not_ordered_first_indices\n",
    "\n",
    "# Apply to the labeled dataframe\n",
    "labeled_df['meal_ordered_yesterday'] = False\n",
    "for ind in df_ordered_yesterday_indices:\n",
    "    labeled_df.at[ind, 'meal_ordered_yesterday'] = True\n",
    "cols = list(labeled_df)\n",
    "cols.insert(0, cols.pop(cols.index('meal_ordered_yesterday')))\n",
    "labeled_df = labeled_df.loc[:, cols]\n",
    "labeled_df = labeled_df.sort_values(by='user_id').reset_index(drop=True)\n",
    "\n",
    "labeled_df['meal_ordered_yesterday'].value_counts().plot.bar(title=\"Meal Ordered Yesterday or not\", \n",
    "                                                             color=['red', 'blue'], grid=True)\n",
    "dfs(labeled_df)['meal_ordered_yesterday']"
   ]
  },
  {
   "cell_type": "markdown",
   "metadata": {},
   "source": [
    "It's a little hand-wavy, but this data has that 13% of meals were ordered yesterday, which is close to the theoretical value of 14%. Now we have a target!"
   ]
  },
  {
   "cell_type": "markdown",
   "metadata": {},
   "source": [
    "## Exploratory Data Analysis, Feature Engineering\n",
    "\n",
    "With the target finally engineered, we can on analyzing features and creating others. I chose to immediately turn number of subscription cycles to a floating point number, count the number of favorite cuisines for a user, and determine if the cuisine of the meal was in the user's 'favorite_cuisines'."
   ]
  },
  {
   "cell_type": "code",
   "execution_count": 9,
   "metadata": {
    "collapsed": true
   },
   "outputs": [],
   "source": [
    "def engineer_columns(df):\n",
    "    df = df.drop('ordered_yesterday', 1)\n",
    "    df['num_subscription_cycles_float'] = df['number_of_subscription_cycles']\n",
    "    df['num_subscription_cycles_float'] = df['num_subscription_cycles_float'].str.replace('+', '')\n",
    "    df['num_subscription_cycles_float'] = pd.to_numeric(df['num_subscription_cycles_float'])\n",
    "    df['num_favorite_cuisines'] = [x.count(',') + 1 for x in df['favorite_cuisines'].astype(str)]\n",
    "    df['cuisine_favorite'] = [x in y for x, y in zip(df['cuisine'], df['favorite_cuisines'])]\n",
    "    return df\n",
    "\n",
    "# These should be done to both sets\n",
    "labeled_df = engineer_columns(labeled_df)\n",
    "test_df = engineer_columns(test_df)"
   ]
  },
  {
   "cell_type": "markdown",
   "metadata": {},
   "source": [
    "Since users will almost certainly see unseen meals on the test set, we can't use whether the user has ordered a meal as a feature on the labeled set.\n",
    "\n",
    "However, we can see if a cuisine of a meal had been ordered previously and how many unique meals this corresponded to. This seems like it could be an important feature."
   ]
  },
  {
   "cell_type": "code",
   "execution_count": 10,
   "metadata": {
    "collapsed": true
   },
   "outputs": [],
   "source": [
    "# Count the amount of unique meals previously ordered by cuisine\n",
    "df_temp = labeled_df.loc[labeled_df['ordered'] == True].drop('ordered', 1)\n",
    "df_temp = df_temp.groupby(['user_id', 'cuisine']).size().reset_index().rename(columns={0:'cuisine_ordered'})\n",
    "\n",
    "# Merge on labeled and test set\n",
    "def create_cuisines_ordered(df):\n",
    "    df = pd.merge(df, df_temp, on=['user_id', 'cuisine'], how='left')\n",
    "    df['cuisine_ordered'] = df['cuisine_ordered'].fillna(0)\n",
    "    return df\n",
    "\n",
    "# Apply to both sets\n",
    "labeled_df = create_cuisines_ordered(labeled_df)\n",
    "test_df = create_cuisines_ordered(test_df)"
   ]
  },
  {
   "cell_type": "code",
   "execution_count": 11,
   "metadata": {
    "scrolled": false
   },
   "outputs": [
    {
     "name": "stdout",
     "output_type": "stream",
     "text": [
      "Labeled:\n"
     ]
    },
    {
     "name": "stderr",
     "output_type": "stream",
     "text": [
      "/Users/matthewignal/.local/lib/python3.6/site-packages/scipy/stats/stats.py:1706: FutureWarning: Using a non-tuple sequence for multidimensional indexing is deprecated; use `arr[tuple(seq)]` instead of `arr[seq]`. In the future this will be interpreted as an array index, `arr[np.array(seq)]`, which will result either in an error or a different result.\n",
      "  return np.add.reduce(sorted[indexer] * weights, axis=axis) / sumval\n"
     ]
    },
    {
     "data": {
      "image/png": "[encoded data removed]",
      "text/plain": [
       "<matplotlib.figure.Figure at 0x1111650f0>"
      ]
     },
     "metadata": {},
     "output_type": "display_data"
    },
    {
     "name": "stdout",
     "output_type": "stream",
     "text": [
      "Test:\n"
     ]
    },
    {
     "data": {
      "image/png": "[encoded data removed]",
      "text/plain": [
       "<matplotlib.figure.Figure at 0x10d4f3b00>"
      ]
     },
     "metadata": {},
     "output_type": "display_data"
    },
    {
     "data": {
      "text/plain": [
       "(None, None)"
      ]
     },
     "execution_count": 11,
     "metadata": {},
     "output_type": "execute_result"
    }
   ],
   "source": [
    "numeric_cols = ['number_of_reviews', 'avg_review_score', 'num_subscription_cycles_float', \n",
    "                'num_favorite_cuisines', 'cuisine_ordered']\n",
    "\n",
    "def plot_dist(df, numeric_cols, color):\n",
    "    '''\n",
    "    Plots distribution of values to detect outliers, nonsensical values'''\n",
    "    fig, ax = plt.subplots((len(numeric_cols)), figsize=(16,len(numeric_cols)*4))\n",
    "    for i, col_val in enumerate(numeric_cols):\n",
    "        sns.distplot(df[col_val].dropna(), hist=True, ax=ax[i], color=color)\n",
    "    plt.show()\n",
    "    \n",
    "print(\"Labeled:\"), plot_dist(labeled_df, numeric_cols, color='r')\n",
    "print(\"Test:\"), plot_dist(test_df, numeric_cols, color='orange')"
   ]
  },
  {
   "cell_type": "markdown",
   "metadata": {},
   "source": [
    "There's a massive outlier in number of reviews that doesn't make sense. There are also review scores of -1. We will replace these with NaN values for now. The number of subscription cycles is extremely low at 3. Could the subscription cycles NaNs belong here? I'm not sure, so I'll treat the NaN as a category in one instance, and fill them in for 3 in another, which is also the middle value -- a safe choice."
   ]
  },
  {
   "cell_type": "code",
   "execution_count": 12,
   "metadata": {
    "scrolled": false
   },
   "outputs": [
    {
     "name": "stderr",
     "output_type": "stream",
     "text": [
      "/Users/matthewignal/anaconda3/lib/python3.6/site-packages/ipykernel_launcher.py:3: SettingWithCopyWarning: \n",
      "A value is trying to be set on a copy of a slice from a DataFrame\n",
      "\n",
      "See the caveats in the documentation: http://pandas.pydata.org/pandas-docs/stable/indexing.html#indexing-view-versus-copy\n",
      "  This is separate from the ipykernel package so we can avoid doing imports until\n"
     ]
    },
    {
     "data": {
      "image/png": "[encoded data removed]",
      "text/plain": [
       "<matplotlib.figure.Figure at 0x105357198>"
      ]
     },
     "metadata": {},
     "output_type": "display_data"
    },
    {
     "data": {
      "image/png": "[encoded data removed]",
      "text/plain": [
       "<matplotlib.figure.Figure at 0x10cf8dfd0>"
      ]
     },
     "metadata": {},
     "output_type": "display_data"
    }
   ],
   "source": [
    "def make_adjustments(df):\n",
    "    df['avg_review_score'] = df['avg_review_score'].replace(-1, np.nan)\n",
    "    df['number_of_reviews'][df['number_of_reviews'] >= 1e5] = np.nan\n",
    "    df['num_subscription_cycles_float'] = df['num_subscription_cycles_float'].replace(np.nan, 3)\n",
    "    return df\n",
    "\n",
    "# These should be done to both sets\n",
    "labeled_df = make_adjustments(labeled_df)\n",
    "test_df = make_adjustments(test_df)\n",
    "\n",
    "plot_dist(labeled_df, numeric_cols, color='g')\n",
    "plot_dist(test_df, numeric_cols, color='b')"
   ]
  },
  {
   "cell_type": "markdown",
   "metadata": {},
   "source": [
    "The changes look good.\n",
    "\n",
    "Next we'll make dummy variables by one-hot encoding the cuisine category and making 6 subscription cycles plus and NaNs their own category as their meaning is ambiguous."
   ]
  },
  {
   "cell_type": "code",
   "execution_count": 13,
   "metadata": {},
   "outputs": [
    {
     "name": "stderr",
     "output_type": "stream",
     "text": [
      "/Users/matthewignal/anaconda3/lib/python3.6/site-packages/ipykernel_launcher.py:6: SettingWithCopyWarning: \n",
      "A value is trying to be set on a copy of a slice from a DataFrame\n",
      "\n",
      "See the caveats in the documentation: http://pandas.pydata.org/pandas-docs/stable/indexing.html#indexing-view-versus-copy\n",
      "  \n",
      "/Users/matthewignal/anaconda3/lib/python3.6/site-packages/ipykernel_launcher.py:9: SettingWithCopyWarning: \n",
      "A value is trying to be set on a copy of a slice from a DataFrame\n",
      "\n",
      "See the caveats in the documentation: http://pandas.pydata.org/pandas-docs/stable/indexing.html#indexing-view-versus-copy\n",
      "  if __name__ == '__main__':\n"
     ]
    }
   ],
   "source": [
    "cats = ['cuisine']\n",
    "def make_dummies(df):\n",
    "    dummy_df = pd.get_dummies(df[cats])\n",
    "    df = pd.concat([df, dummy_df], axis=1)\n",
    "    df['6_cycles_plus'] = np.nan\n",
    "    df['6_cycles_plus'][df['number_of_subscription_cycles'] == '6+'] = 1\n",
    "    df['6_cycles_plus'] = df['6_cycles_plus'].fillna(0)\n",
    "    df['unk_cycles'] = np.nan\n",
    "    df['unk_cycles'][df['number_of_subscription_cycles'].isnull()] = 1\n",
    "    df['unk_cycles'] = df['unk_cycles'].fillna(0)\n",
    "    return df\n",
    "\n",
    "# Apply to both sets\n",
    "labeled_df = make_dummies(labeled_df)\n",
    "test_df = make_dummies(test_df)"
   ]
  },
  {
   "cell_type": "markdown",
   "metadata": {},
   "source": [
    "Let's take another look at our data and make a correlation heatmap to quickly examine relationships"
   ]
  },
  {
   "cell_type": "code",
   "execution_count": 14,
   "metadata": {},
   "outputs": [
    {
     "name": "stdout",
     "output_type": "stream",
     "text": [
      "Labeled:\n"
     ]
    },
    {
     "data": {
      "text/html": [
       "<div>\n",
       "<style scoped>\n",
       "    .dataframe tbody tr th:only-of-type {\n",
       "        vertical-align: middle;\n",
       "    }\n",
       "\n",
       "    .dataframe tbody tr th {\n",
       "        vertical-align: top;\n",
       "    }\n",
       "\n",
       "    .dataframe thead th {\n",
       "        text-align: right;\n",
       "    }\n",
       "</style>\n",
       "<table border=\"1\" class=\"dataframe\">\n",
       "  <thead>\n",
       "    <tr style=\"text-align: right;\">\n",
       "      <th></th>\n",
       "      <th>meal_ordered_yesterday</th>\n",
       "      <th>user_id</th>\n",
       "      <th>meal_id</th>\n",
       "      <th>cuisine</th>\n",
       "      <th>large_portion</th>\n",
       "      <th>number_of_reviews</th>\n",
       "      <th>avg_review_score</th>\n",
       "      <th>num_subscription_cycles_float</th>\n",
       "      <th>num_favorite_cuisines</th>\n",
       "      <th>cuisine_favorite</th>\n",
       "      <th>cuisine_ordered</th>\n",
       "      <th>cuisine_american</th>\n",
       "      <th>cuisine_chinese</th>\n",
       "      <th>cuisine_indian</th>\n",
       "      <th>cuisine_italian</th>\n",
       "      <th>cuisine_japanese</th>\n",
       "      <th>cuisine_korean</th>\n",
       "      <th>cuisine_latin</th>\n",
       "      <th>cuisine_mediterranean</th>\n",
       "      <th>cuisine_middle-eastern</th>\n",
       "      <th>cuisine_thai</th>\n",
       "      <th>cuisine_vegetarian</th>\n",
       "      <th>6_cycles_plus</th>\n",
       "      <th>unk_cycles</th>\n",
       "    </tr>\n",
       "  </thead>\n",
       "  <tbody>\n",
       "    <tr>\n",
       "      <th>counts</th>\n",
       "      <td>35990</td>\n",
       "      <td>35990</td>\n",
       "      <td>35990</td>\n",
       "      <td>35990</td>\n",
       "      <td>35990</td>\n",
       "      <td>34220</td>\n",
       "      <td>33281</td>\n",
       "      <td>35990</td>\n",
       "      <td>35990</td>\n",
       "      <td>35990</td>\n",
       "      <td>35990</td>\n",
       "      <td>35990</td>\n",
       "      <td>35990</td>\n",
       "      <td>35990</td>\n",
       "      <td>35990</td>\n",
       "      <td>35990</td>\n",
       "      <td>35990</td>\n",
       "      <td>35990</td>\n",
       "      <td>35990</td>\n",
       "      <td>35990</td>\n",
       "      <td>35990</td>\n",
       "      <td>35990</td>\n",
       "      <td>35990</td>\n",
       "      <td>35990</td>\n",
       "    </tr>\n",
       "    <tr>\n",
       "      <th>uniques</th>\n",
       "      <td>2</td>\n",
       "      <td>7200</td>\n",
       "      <td>1000</td>\n",
       "      <td>11</td>\n",
       "      <td>2</td>\n",
       "      <td>557</td>\n",
       "      <td>827</td>\n",
       "      <td>7</td>\n",
       "      <td>10</td>\n",
       "      <td>2</td>\n",
       "      <td>4</td>\n",
       "      <td>2</td>\n",
       "      <td>2</td>\n",
       "      <td>2</td>\n",
       "      <td>2</td>\n",
       "      <td>2</td>\n",
       "      <td>2</td>\n",
       "      <td>2</td>\n",
       "      <td>2</td>\n",
       "      <td>2</td>\n",
       "      <td>2</td>\n",
       "      <td>2</td>\n",
       "      <td>2</td>\n",
       "      <td>2</td>\n",
       "    </tr>\n",
       "    <tr>\n",
       "      <th>missing</th>\n",
       "      <td>0</td>\n",
       "      <td>0</td>\n",
       "      <td>0</td>\n",
       "      <td>0</td>\n",
       "      <td>0</td>\n",
       "      <td>1770</td>\n",
       "      <td>2709</td>\n",
       "      <td>0</td>\n",
       "      <td>0</td>\n",
       "      <td>0</td>\n",
       "      <td>0</td>\n",
       "      <td>0</td>\n",
       "      <td>0</td>\n",
       "      <td>0</td>\n",
       "      <td>0</td>\n",
       "      <td>0</td>\n",
       "      <td>0</td>\n",
       "      <td>0</td>\n",
       "      <td>0</td>\n",
       "      <td>0</td>\n",
       "      <td>0</td>\n",
       "      <td>0</td>\n",
       "      <td>0</td>\n",
       "      <td>0</td>\n",
       "    </tr>\n",
       "    <tr>\n",
       "      <th>missing_perc</th>\n",
       "      <td>0%</td>\n",
       "      <td>0%</td>\n",
       "      <td>0%</td>\n",
       "      <td>0%</td>\n",
       "      <td>0%</td>\n",
       "      <td>4.92%</td>\n",
       "      <td>7.53%</td>\n",
       "      <td>0%</td>\n",
       "      <td>0%</td>\n",
       "      <td>0%</td>\n",
       "      <td>0%</td>\n",
       "      <td>0%</td>\n",
       "      <td>0%</td>\n",
       "      <td>0%</td>\n",
       "      <td>0%</td>\n",
       "      <td>0%</td>\n",
       "      <td>0%</td>\n",
       "      <td>0%</td>\n",
       "      <td>0%</td>\n",
       "      <td>0%</td>\n",
       "      <td>0%</td>\n",
       "      <td>0%</td>\n",
       "      <td>0%</td>\n",
       "      <td>0%</td>\n",
       "    </tr>\n",
       "    <tr>\n",
       "      <th>types</th>\n",
       "      <td>bool</td>\n",
       "      <td>numeric</td>\n",
       "      <td>numeric</td>\n",
       "      <td>categorical</td>\n",
       "      <td>bool</td>\n",
       "      <td>numeric</td>\n",
       "      <td>numeric</td>\n",
       "      <td>numeric</td>\n",
       "      <td>numeric</td>\n",
       "      <td>bool</td>\n",
       "      <td>numeric</td>\n",
       "      <td>bool</td>\n",
       "      <td>bool</td>\n",
       "      <td>bool</td>\n",
       "      <td>bool</td>\n",
       "      <td>bool</td>\n",
       "      <td>bool</td>\n",
       "      <td>bool</td>\n",
       "      <td>bool</td>\n",
       "      <td>bool</td>\n",
       "      <td>bool</td>\n",
       "      <td>bool</td>\n",
       "      <td>bool</td>\n",
       "      <td>bool</td>\n",
       "    </tr>\n",
       "  </tbody>\n",
       "</table>\n",
       "</div>"
      ],
      "text/plain": [
       "             meal_ordered_yesterday  user_id  meal_id      cuisine  \\\n",
       "counts                        35990    35990    35990        35990   \n",
       "uniques                           2     7200     1000           11   \n",
       "missing                           0        0        0            0   \n",
       "missing_perc                     0%       0%       0%           0%   \n",
       "types                          bool  numeric  numeric  categorical   \n",
       "\n",
       "             large_portion number_of_reviews avg_review_score  \\\n",
       "counts               35990             34220            33281   \n",
       "uniques                  2               557              827   \n",
       "missing                  0              1770             2709   \n",
       "missing_perc            0%             4.92%            7.53%   \n",
       "types                 bool           numeric          numeric   \n",
       "\n",
       "             num_subscription_cycles_float num_favorite_cuisines  \\\n",
       "counts                               35990                 35990   \n",
       "uniques                                  7                    10   \n",
       "missing                                  0                     0   \n",
       "missing_perc                            0%                    0%   \n",
       "types                              numeric               numeric   \n",
       "\n",
       "             cuisine_favorite cuisine_ordered cuisine_american  \\\n",
       "counts                  35990           35990            35990   \n",
       "uniques                     2               4                2   \n",
       "missing                     0               0                0   \n",
       "missing_perc               0%              0%               0%   \n",
       "types                    bool         numeric             bool   \n",
       "\n",
       "             cuisine_chinese cuisine_indian cuisine_italian cuisine_japanese  \\\n",
       "counts                 35990          35990           35990            35990   \n",
       "uniques                    2              2               2                2   \n",
       "missing                    0              0               0                0   \n",
       "missing_perc              0%             0%              0%               0%   \n",
       "types                   bool           bool            bool             bool   \n",
       "\n",
       "             cuisine_korean cuisine_latin cuisine_mediterranean  \\\n",
       "counts                35990         35990                 35990   \n",
       "uniques                   2             2                     2   \n",
       "missing                   0             0                     0   \n",
       "missing_perc             0%            0%                    0%   \n",
       "types                  bool          bool                  bool   \n",
       "\n",
       "             cuisine_middle-eastern cuisine_thai cuisine_vegetarian  \\\n",
       "counts                        35990        35990              35990   \n",
       "uniques                           2            2                  2   \n",
       "missing                           0            0                  0   \n",
       "missing_perc                     0%           0%                 0%   \n",
       "types                          bool         bool               bool   \n",
       "\n",
       "             6_cycles_plus unk_cycles  \n",
       "counts               35990      35990  \n",
       "uniques                  2          2  \n",
       "missing                  0          0  \n",
       "missing_perc            0%         0%  \n",
       "types                 bool       bool  "
      ]
     },
     "metadata": {},
     "output_type": "display_data"
    },
    {
     "name": "stdout",
     "output_type": "stream",
     "text": [
      "\n",
      "Test:\n"
     ]
    },
    {
     "data": {
      "text/html": [
       "<div>\n",
       "<style scoped>\n",
       "    .dataframe tbody tr th:only-of-type {\n",
       "        vertical-align: middle;\n",
       "    }\n",
       "\n",
       "    .dataframe tbody tr th {\n",
       "        vertical-align: top;\n",
       "    }\n",
       "\n",
       "    .dataframe thead th {\n",
       "        text-align: right;\n",
       "    }\n",
       "</style>\n",
       "<table border=\"1\" class=\"dataframe\">\n",
       "  <thead>\n",
       "    <tr style=\"text-align: right;\">\n",
       "      <th></th>\n",
       "      <th>user_id</th>\n",
       "      <th>meal_id</th>\n",
       "      <th>cuisine</th>\n",
       "      <th>large_portion</th>\n",
       "      <th>number_of_reviews</th>\n",
       "      <th>avg_review_score</th>\n",
       "      <th>num_subscription_cycles_float</th>\n",
       "      <th>num_favorite_cuisines</th>\n",
       "      <th>cuisine_favorite</th>\n",
       "      <th>cuisine_ordered</th>\n",
       "      <th>cuisine_american</th>\n",
       "      <th>cuisine_chinese</th>\n",
       "      <th>cuisine_indian</th>\n",
       "      <th>cuisine_italian</th>\n",
       "      <th>cuisine_japanese</th>\n",
       "      <th>cuisine_korean</th>\n",
       "      <th>cuisine_latin</th>\n",
       "      <th>cuisine_mediterranean</th>\n",
       "      <th>cuisine_middle-eastern</th>\n",
       "      <th>cuisine_thai</th>\n",
       "      <th>cuisine_vegetarian</th>\n",
       "      <th>6_cycles_plus</th>\n",
       "      <th>unk_cycles</th>\n",
       "    </tr>\n",
       "  </thead>\n",
       "  <tbody>\n",
       "    <tr>\n",
       "      <th>counts</th>\n",
       "      <td>56390</td>\n",
       "      <td>56390</td>\n",
       "      <td>56390</td>\n",
       "      <td>56390</td>\n",
       "      <td>53501</td>\n",
       "      <td>52175</td>\n",
       "      <td>56390</td>\n",
       "      <td>56390</td>\n",
       "      <td>56390</td>\n",
       "      <td>56390</td>\n",
       "      <td>56390</td>\n",
       "      <td>56390</td>\n",
       "      <td>56390</td>\n",
       "      <td>56390</td>\n",
       "      <td>56390</td>\n",
       "      <td>56390</td>\n",
       "      <td>56390</td>\n",
       "      <td>56390</td>\n",
       "      <td>56390</td>\n",
       "      <td>56390</td>\n",
       "      <td>56390</td>\n",
       "      <td>56390</td>\n",
       "      <td>56390</td>\n",
       "    </tr>\n",
       "    <tr>\n",
       "      <th>uniques</th>\n",
       "      <td>11280</td>\n",
       "      <td>1000</td>\n",
       "      <td>11</td>\n",
       "      <td>2</td>\n",
       "      <td>557</td>\n",
       "      <td>827</td>\n",
       "      <td>7</td>\n",
       "      <td>10</td>\n",
       "      <td>2</td>\n",
       "      <td>4</td>\n",
       "      <td>2</td>\n",
       "      <td>2</td>\n",
       "      <td>2</td>\n",
       "      <td>2</td>\n",
       "      <td>2</td>\n",
       "      <td>2</td>\n",
       "      <td>2</td>\n",
       "      <td>2</td>\n",
       "      <td>2</td>\n",
       "      <td>2</td>\n",
       "      <td>2</td>\n",
       "      <td>2</td>\n",
       "      <td>2</td>\n",
       "    </tr>\n",
       "    <tr>\n",
       "      <th>missing</th>\n",
       "      <td>0</td>\n",
       "      <td>0</td>\n",
       "      <td>0</td>\n",
       "      <td>0</td>\n",
       "      <td>2889</td>\n",
       "      <td>4215</td>\n",
       "      <td>0</td>\n",
       "      <td>0</td>\n",
       "      <td>0</td>\n",
       "      <td>0</td>\n",
       "      <td>0</td>\n",
       "      <td>0</td>\n",
       "      <td>0</td>\n",
       "      <td>0</td>\n",
       "      <td>0</td>\n",
       "      <td>0</td>\n",
       "      <td>0</td>\n",
       "      <td>0</td>\n",
       "      <td>0</td>\n",
       "      <td>0</td>\n",
       "      <td>0</td>\n",
       "      <td>0</td>\n",
       "      <td>0</td>\n",
       "    </tr>\n",
       "    <tr>\n",
       "      <th>missing_perc</th>\n",
       "      <td>0%</td>\n",
       "      <td>0%</td>\n",
       "      <td>0%</td>\n",
       "      <td>0%</td>\n",
       "      <td>5.12%</td>\n",
       "      <td>7.47%</td>\n",
       "      <td>0%</td>\n",
       "      <td>0%</td>\n",
       "      <td>0%</td>\n",
       "      <td>0%</td>\n",
       "      <td>0%</td>\n",
       "      <td>0%</td>\n",
       "      <td>0%</td>\n",
       "      <td>0%</td>\n",
       "      <td>0%</td>\n",
       "      <td>0%</td>\n",
       "      <td>0%</td>\n",
       "      <td>0%</td>\n",
       "      <td>0%</td>\n",
       "      <td>0%</td>\n",
       "      <td>0%</td>\n",
       "      <td>0%</td>\n",
       "      <td>0%</td>\n",
       "    </tr>\n",
       "    <tr>\n",
       "      <th>types</th>\n",
       "      <td>numeric</td>\n",
       "      <td>numeric</td>\n",
       "      <td>categorical</td>\n",
       "      <td>bool</td>\n",
       "      <td>numeric</td>\n",
       "      <td>numeric</td>\n",
       "      <td>numeric</td>\n",
       "      <td>numeric</td>\n",
       "      <td>bool</td>\n",
       "      <td>numeric</td>\n",
       "      <td>bool</td>\n",
       "      <td>bool</td>\n",
       "      <td>bool</td>\n",
       "      <td>bool</td>\n",
       "      <td>bool</td>\n",
       "      <td>bool</td>\n",
       "      <td>bool</td>\n",
       "      <td>bool</td>\n",
       "      <td>bool</td>\n",
       "      <td>bool</td>\n",
       "      <td>bool</td>\n",
       "      <td>bool</td>\n",
       "      <td>bool</td>\n",
       "    </tr>\n",
       "  </tbody>\n",
       "</table>\n",
       "</div>"
      ],
      "text/plain": [
       "              user_id  meal_id      cuisine large_portion number_of_reviews  \\\n",
       "counts          56390    56390        56390         56390             53501   \n",
       "uniques         11280     1000           11             2               557   \n",
       "missing             0        0            0             0              2889   \n",
       "missing_perc       0%       0%           0%            0%             5.12%   \n",
       "types         numeric  numeric  categorical          bool           numeric   \n",
       "\n",
       "             avg_review_score num_subscription_cycles_float  \\\n",
       "counts                  52175                         56390   \n",
       "uniques                   827                             7   \n",
       "missing                  4215                             0   \n",
       "missing_perc            7.47%                            0%   \n",
       "types                 numeric                       numeric   \n",
       "\n",
       "             num_favorite_cuisines cuisine_favorite cuisine_ordered  \\\n",
       "counts                       56390            56390           56390   \n",
       "uniques                         10                2               4   \n",
       "missing                          0                0               0   \n",
       "missing_perc                    0%               0%              0%   \n",
       "types                      numeric             bool         numeric   \n",
       "\n",
       "             cuisine_american cuisine_chinese cuisine_indian cuisine_italian  \\\n",
       "counts                  56390           56390          56390           56390   \n",
       "uniques                     2               2              2               2   \n",
       "missing                     0               0              0               0   \n",
       "missing_perc               0%              0%             0%              0%   \n",
       "types                    bool            bool           bool            bool   \n",
       "\n",
       "             cuisine_japanese cuisine_korean cuisine_latin  \\\n",
       "counts                  56390          56390         56390   \n",
       "uniques                     2              2             2   \n",
       "missing                     0              0             0   \n",
       "missing_perc               0%             0%            0%   \n",
       "types                    bool           bool          bool   \n",
       "\n",
       "             cuisine_mediterranean cuisine_middle-eastern cuisine_thai  \\\n",
       "counts                       56390                  56390        56390   \n",
       "uniques                          2                      2            2   \n",
       "missing                          0                      0            0   \n",
       "missing_perc                    0%                     0%           0%   \n",
       "types                         bool                   bool         bool   \n",
       "\n",
       "             cuisine_vegetarian 6_cycles_plus unk_cycles  \n",
       "counts                    56390         56390      56390  \n",
       "uniques                       2             2          2  \n",
       "missing                       0             0          0  \n",
       "missing_perc                 0%            0%         0%  \n",
       "types                      bool          bool       bool  "
      ]
     },
     "metadata": {},
     "output_type": "display_data"
    },
    {
     "data": {
      "text/plain": [
       "<matplotlib.axes._subplots.AxesSubplot at 0x114b27f28>"
      ]
     },
     "execution_count": 14,
     "metadata": {},
     "output_type": "execute_result"
    },
    {
     "data": {
      "image/png": "[encoded data removed]",
      "text/plain": [
       "<matplotlib.figure.Figure at 0x114b27278>"
      ]
     },
     "metadata": {},
     "output_type": "display_data"
    }
   ],
   "source": [
    "# Drop unwanted columns\n",
    "labeled_df = labeled_df.drop(['number_of_subscription_cycles', 'favorite_cuisines', 'ordered'], 1)\n",
    "test_df = test_df.drop(['number_of_subscription_cycles', 'favorite_cuisines'], 1)\n",
    "\n",
    "print(\"Labeled:\"), display(dfs(labeled_df).columns_stats)\n",
    "print(\"\\nTest:\"), display(dfs(test_df).columns_stats)\n",
    "\n",
    "# Correlation plot\n",
    "fig, ax = plt.subplots(figsize=(10, 8))\n",
    "corr = labeled_df.corr()\n",
    "sns.heatmap(corr, center=0.3, cmap = \"RdBu\",\n",
    "            xticklabels=corr.columns.values,\n",
    "            yticklabels=corr.columns.values)"
   ]
  },
  {
   "cell_type": "markdown",
   "metadata": {},
   "source": [
    "The good: There is the potential information gain with all of our features due to low feature correlations.\n",
    "\n",
    "The bad: For our target column, only if the cuisine was seen previously shows much of a correlation (and it is pretty weak)."
   ]
  },
  {
   "cell_type": "markdown",
   "metadata": {},
   "source": [
    "## Machine Learning\n",
    "\n",
    "The point of this exercise is not to spend time perfecting a model, so there will be no hyperperameter tuning. By the same token, I will not be experimenting with feature selection since I have no expectation as to whether it will help or not. (I tend to do tree-based feature importance scores--especially Shapley values--on cross-validation folds to avoid selection bias.)\n",
    "\n",
    "To split up our dataset into training and validation folds, let's take one random example for each user and put it in the validation set while the rest go in training. (An 80/20 split on 36,000 counts seems appropriate.)\n",
    "\n",
    "We'll then try out some Sci-Kit Learn model's and a Neural Network."
   ]
  },
  {
   "cell_type": "code",
   "execution_count": 15,
   "metadata": {
    "collapsed": true
   },
   "outputs": [],
   "source": [
    "def select_one_from_user(df):\n",
    "    '''\n",
    "    Shuffles the data and selects the last user_id for validation set'''\n",
    "    df = df.sample(frac=1).reset_index(drop=True)\n",
    "    df_last = df.drop_duplicates(subset=['user_id'], keep='last')\n",
    "    df = df.drop(list(df_last.index), 0)\n",
    "    return df, df_last, df_last.index\n",
    "\n",
    "# Perform on labeled data only\n",
    "train, valid, valid_idx = select_one_from_user(labeled_df)\n",
    "\n",
    "# Drop columns that have been one-hot-encoded or are too numerous.\n",
    "def drop(df, drop_cols):\n",
    "    df = df.drop(drop_cols, 1)\n",
    "    return df\n",
    "\n",
    "# Drop the following ids for sklearn\n",
    "to_drop_sk = ['user_id', 'meal_id', 'cuisine']\n",
    "train_sk = drop(train, to_drop_sk)\n",
    "valid_sk = drop(valid, to_drop_sk)\n",
    "\n",
    "# Split into training and testing feature/target sets\n",
    "X_train, X_test, y_train, y_test = train_sk.iloc[:, 1:], valid_sk.iloc[:, 1:], train_sk.iloc[:, 0], valid_sk.iloc[:, 0] "
   ]
  },
  {
   "cell_type": "markdown",
   "metadata": {},
   "source": [
    "Next we'll preprocess the data for sklearn by fitting the missing values from the number of reviews and average review score. We'll also scale the data by standardizing it, an important requirement for many machine learning models. For both, we'll fit the transformations on the training set and then transform on both the training and testing sets to simulate the application on new data."
   ]
  },
  {
   "cell_type": "code",
   "execution_count": 16,
   "metadata": {
    "collapsed": true
   },
   "outputs": [],
   "source": [
    "from sklearn.preprocessing import Imputer\n",
    "from sklearn.preprocessing import StandardScaler\n",
    "imp = Imputer(missing_values=np.nan, strategy='median')\n",
    "ss = StandardScaler()\n",
    "\n",
    "def preprocess(X_train, X_test):\n",
    "    imp.fit(X_train[['number_of_reviews', 'avg_review_score']])\n",
    "    X_train[['number_of_reviews', 'avg_review_score']] = imp.transform(X_train[['number_of_reviews', \n",
    "                                                                                'avg_review_score']])\n",
    "    X_test[['number_of_reviews', 'avg_review_score']] = imp.transform(X_test[['number_of_reviews', \n",
    "                                                                              'avg_review_score']])\n",
    "    ss.fit(X_train)\n",
    "    X_train = ss.transform(X_train)\n",
    "    X_test = ss.transform(X_test)\n",
    "    return X_train, X_test\n",
    "\n",
    "X_train, X_test = preprocess(X_train, X_test)"
   ]
  },
  {
   "cell_type": "markdown",
   "metadata": {},
   "source": [
    "We'll need to look at some baseline metrics to get a feel for how the models are performing. The simplest one is accuracy. How often does it guess right? What happens if we guess false each time (the majority class) to maximize accuracy? \n",
    "\n",
    "The second one we'll examine is cross-entropy loss. For reasons that will be explained later, we should also try to output probabilities from each predictor. How close do the probabilities come to the class choice? What happens when we just use the fraction of true observations?"
   ]
  },
  {
   "cell_type": "code",
   "execution_count": 17,
   "metadata": {},
   "outputs": [
    {
     "name": "stdout",
     "output_type": "stream",
     "text": [
      "Baseline training accuracy: 86.95380340395971 %\n",
      "Baseline training logloss: 0.387263942008863\n",
      "\n",
      "Baseline validation accuracy: 87.06944444444444 %\n",
      "Baseline validation logloss: 0.3850644608233885\n"
     ]
    },
    {
     "name": "stderr",
     "output_type": "stream",
     "text": [
      "/Users/matthewignal/anaconda3/lib/python3.6/site-packages/sklearn/ensemble/weight_boosting.py:29: DeprecationWarning: numpy.core.umath_tests is an internal NumPy module and should not be imported. It will be removed in a future NumPy release.\n",
      "  from numpy.core.umath_tests import inner1d\n"
     ]
    }
   ],
   "source": [
    "from sklearn.model_selection import train_test_split\n",
    "from sklearn.linear_model import LogisticRegression\n",
    "from sklearn.neighbors import KNeighborsClassifier\n",
    "from sklearn.ensemble import RandomForestClassifier\n",
    "from sklearn.metrics import accuracy_score\n",
    "from sklearn.metrics import log_loss\n",
    "\n",
    "# From the training set:\n",
    "y_train_true_frac = len(train.loc[train['meal_ordered_yesterday'] == True])/len(train)\n",
    "print('Baseline training accuracy:', (1 - y_train_true_frac)*100, '%')\n",
    "print('Baseline training logloss:', log_loss(y_train, [y_train_true_frac]*len(y_train)))\n",
    "\n",
    "# From the validation set:\n",
    "y_valid_true_frac = len(valid.loc[valid['meal_ordered_yesterday'] == True])/len(valid)\n",
    "print('\\nBaseline validation accuracy:', (1 - y_valid_true_frac)*100, '%')\n",
    "print('Baseline validation logloss:', log_loss(y_test, [y_valid_true_frac]*len(y_test)))"
   ]
  },
  {
   "cell_type": "markdown",
   "metadata": {},
   "source": [
    "Clearly, the dataset has heavy class imbalance, which can complicate things. But this is also how the unseen data will look.\n",
    "\n",
    "It's time to train and evaluate! We'll try three different models that have three different objectives: logistic regression (formula to minimize cross-entropy loss), nearest neighbors (find similar samples), and random forest (minimize node impurity in tree construction).\n",
    "\n",
    "We'll simply fit these classifiers on the training set, predict the class probability, and compare metrics on the validation set. I'm also curious to see how often they predict a positive given the imbalanced data."
   ]
  },
  {
   "cell_type": "code",
   "execution_count": 18,
   "metadata": {},
   "outputs": [
    {
     "name": "stdout",
     "output_type": "stream",
     "text": [
      "Logistic Regression\n",
      "  Accuracy: 0.8669 %\n",
      "  Loss: 0.3475\n",
      "  Positive Prediction: 0.74 %\n",
      "\n",
      "Nearest Neighbors Uniform\n",
      "  Accuracy: 0.8446 %\n",
      "  Loss: 1.7545\n",
      "  Positive Prediction: 5.39 %\n",
      "\n",
      "Nearest Neighbors Distance\n",
      "  Accuracy: 0.8576 %\n",
      "  Loss: 1.3593\n",
      "  Positive Prediction: 1.92 %\n",
      "\n",
      "Random Forest\n",
      "  Accuracy: 0.8432 %\n",
      "  Loss: 0.5764\n",
      "  Positive Prediction: 4.81 %\n"
     ]
    }
   ],
   "source": [
    "def sklearn_fit(clf):\n",
    "    clf.fit(X_train, y_train)\n",
    "    pred = clf.predict(X_test)\n",
    "    print(\"  Accuracy:\", np.round(accuracy_score(y_test, pred, normalize=True), 4), '%')\n",
    "    pred_prob = clf.predict_proba(X_test)\n",
    "    print(\"  Loss:\", np.round(log_loss(y_test, pred_prob, normalize=True), 4))\n",
    "    print(\"  Positive Prediction:\", np.round(np.mean(pred)*100, 2), '%')\n",
    "\n",
    "print(\"Logistic Regression\")\n",
    "sklearn_fit(LogisticRegression())\n",
    "    \n",
    "print(\"\\nNearest Neighbors Uniform\")\n",
    "sklearn_fit(KNeighborsClassifier(5, 'uniform'))\n",
    "\n",
    "print(\"\\nNearest Neighbors Distance\")\n",
    "sklearn_fit(KNeighborsClassifier(50, 'distance'))\n",
    "\n",
    "print(\"\\nRandom Forest\")\n",
    "sklearn_fit(RandomForestClassifier(n_estimators=100, random_state=1))"
   ]
  },
  {
   "cell_type": "markdown",
   "metadata": {},
   "source": [
    "Only the logistic regression improves the logloss. Only nearest neighbors improves on the accuracy. (It doesn't output probabilities.) The powerful random forest does neither. Given the low positive predictions, the models seem poorly calibrated."
   ]
  },
  {
   "cell_type": "markdown",
   "metadata": {},
   "source": [
    "## Deep Learning\n",
    "\n",
    "Let's try using a neural network, which can learn to approximate an unknown function through the use of weights, biases, and activation functions mapping inputs to outputs via hidden layers. There's also an added bonus of using embedding layers to essentially vectorize categorical features that are too numerous to use dummy variables. So we can perhaps learn more details about the users and meals.\n",
    "\n",
    "We'll use Fastai v1.0 to quickly set this up. It should be fine to run on a CPU."
   ]
  },
  {
   "cell_type": "code",
   "execution_count": 19,
   "metadata": {
    "collapsed": true
   },
   "outputs": [],
   "source": [
    "from fastai.metrics import accuracy\n",
    "from fastai.basic_data import DatasetType\n",
    "from fastai.tabular import TabularDataBunch, tabular_learner\n",
    "from fastai.tabular.transform import FillMissing, Categorify, Normalize\n",
    "from fastai.torch_core import to_np\n",
    "import os\n",
    "path = os.getcwd()"
   ]
  },
  {
   "cell_type": "code",
   "execution_count": 20,
   "metadata": {
    "collapsed": true
   },
   "outputs": [],
   "source": [
    "# Standard processing to mean-fill missing values, categorify cuisine\n",
    "procs = [FillMissing, Categorify, Normalize]\n",
    "\n",
    "# Categorize data\n",
    "dep_var = 'meal_ordered_yesterday'\n",
    "cat_names = ['user_id', 'meal_id', 'cuisine', 'large_portion']\n",
    "cont_names = ['avg_review_score', 'num_subscription_cycles_float', 'num_favorite_cuisines', 'number_of_reviews',\n",
    "              '6_cycles_plus', 'cuisine_favorite', 'cuisine_ordered', 'unk_cycles']\n",
    "\n",
    "# Create data object, including the test set\n",
    "data = TabularDataBunch.from_df(path, labeled_df, dep_var, valid_idx=valid_idx, test_df=test_df, \n",
    "                                procs=procs, cat_names=cat_names, \n",
    "                                cont_names=cont_names)"
   ]
  },
  {
   "cell_type": "code",
   "execution_count": 21,
   "metadata": {},
   "outputs": [
    {
     "data": {
      "text/plain": [
       "TabularModel(\n",
       "  (embeds): ModuleList(\n",
       "    (0): Embedding(6864, 225)\n",
       "    (1): Embedding(1001, 77)\n",
       "    (2): Embedding(12, 6)\n",
       "    (3): Embedding(3, 3)\n",
       "    (4): Embedding(3, 3)\n",
       "    (5): Embedding(3, 3)\n",
       "  )\n",
       "  (emb_drop): Dropout(p=0.03)\n",
       "  (bn_cont): BatchNorm1d(8, eps=1e-05, momentum=0.1, affine=True, track_running_stats=True)\n",
       "  (layers): Sequential(\n",
       "    (0): Linear(in_features=325, out_features=1000, bias=True)\n",
       "    (1): ReLU(inplace)\n",
       "    (2): BatchNorm1d(1000, eps=1e-05, momentum=0.1, affine=True, track_running_stats=True)\n",
       "    (3): Dropout(p=0.001)\n",
       "    (4): Linear(in_features=1000, out_features=500, bias=True)\n",
       "    (5): ReLU(inplace)\n",
       "    (6): BatchNorm1d(500, eps=1e-05, momentum=0.1, affine=True, track_running_stats=True)\n",
       "    (7): Dropout(p=0.0014285714285714286)\n",
       "    (8): Linear(in_features=500, out_features=250, bias=True)\n",
       "    (9): ReLU(inplace)\n",
       "    (10): BatchNorm1d(250, eps=1e-05, momentum=0.1, affine=True, track_running_stats=True)\n",
       "    (11): Dropout(p=0.002)\n",
       "    (12): Linear(in_features=250, out_features=120, bias=True)\n",
       "    (13): ReLU(inplace)\n",
       "    (14): BatchNorm1d(120, eps=1e-05, momentum=0.1, affine=True, track_running_stats=True)\n",
       "    (15): Dropout(p=0.0033333333333333335)\n",
       "    (16): Linear(in_features=120, out_features=60, bias=True)\n",
       "    (17): ReLU(inplace)\n",
       "    (18): BatchNorm1d(60, eps=1e-05, momentum=0.1, affine=True, track_running_stats=True)\n",
       "    (19): Dropout(p=0.005)\n",
       "    (20): Linear(in_features=60, out_features=30, bias=True)\n",
       "    (21): ReLU(inplace)\n",
       "    (22): BatchNorm1d(30, eps=1e-05, momentum=0.1, affine=True, track_running_stats=True)\n",
       "    (23): Dropout(p=0.01)\n",
       "    (24): Linear(in_features=30, out_features=2, bias=True)\n",
       "  )\n",
       ")"
      ]
     },
     "execution_count": 21,
     "metadata": {},
     "output_type": "execute_result"
    }
   ],
   "source": [
    "# Let's set up a few hidden layers, add dropout, and report the accuracy\n",
    "learn = tabular_learner(data, layers=[1000, 500, 250, 120, 60, 30], ps=[0.01/10, 0.01/7, 0.01/5, 0.01/3, 0.01/2, 0.01], \n",
    "                        emb_drop=0.03, metrics=accuracy)\n",
    "# Show the model\n",
    "learn.model"
   ]
  },
  {
   "cell_type": "code",
   "execution_count": 27,
   "metadata": {},
   "outputs": [
    {
     "name": "stdout",
     "output_type": "stream",
     "text": [
      "LR Finder is complete, type {learner_name}.recorder.plot() to see the graph.\n"
     ]
    },
    {
     "data": {
      "image/png": "[encoded data removed]",
      "text/plain": [
       "<matplotlib.figure.Figure at 0x1300c5b00>"
      ]
     },
     "metadata": {},
     "output_type": "display_data"
    }
   ],
   "source": [
    "# Show the loss at different learning rates\n",
    "learn.lr_find()\n",
    "learn.recorder.plot()"
   ]
  },
  {
   "cell_type": "markdown",
   "metadata": {},
   "source": [
    "The loss has a pretty steep decline at about 3e-02. Let's fit the model and display the learning rate and momentum."
   ]
  },
  {
   "cell_type": "code",
   "execution_count": 28,
   "metadata": {},
   "outputs": [
    {
     "data": {
      "text/html": [
       "Total time: 00:22 <p><table style='width:300px; margin-bottom:10px'>\n",
       "  <tr>\n",
       "    <th>epoch</th>\n",
       "    <th>train_loss</th>\n",
       "    <th>valid_loss</th>\n",
       "    <th>accuracy</th>\n",
       "  </tr>\n",
       "  <tr>\n",
       "    <th>1</th>\n",
       "    <th>0.320867</th>\n",
       "    <th>0.336328</th>\n",
       "    <th>0.867361</th>\n",
       "  </tr>\n",
       "</table>\n"
      ],
      "text/plain": [
       "<IPython.core.display.HTML object>"
      ]
     },
     "metadata": {},
     "output_type": "display_data"
    },
    {
     "data": {
      "image/png": "[encoded data removed]",
      "text/plain": [
       "<matplotlib.figure.Figure at 0x13091d588>"
      ]
     },
     "metadata": {},
     "output_type": "display_data"
    }
   ],
   "source": [
    "learn.fit_one_cycle(1, max_lr=3e-2, wd=0.2)\n",
    "learn.save('stage-1')\n",
    "learn.recorder.plot_lr(show_moms=True)"
   ]
  },
  {
   "cell_type": "code",
   "execution_count": 29,
   "metadata": {},
   "outputs": [
    {
     "data": {
      "text/html": [
       "Total time: 00:20 <p><table style='width:300px; margin-bottom:10px'>\n",
       "  <tr>\n",
       "    <th>epoch</th>\n",
       "    <th>train_loss</th>\n",
       "    <th>valid_loss</th>\n",
       "    <th>accuracy</th>\n",
       "  </tr>\n",
       "  <tr>\n",
       "    <th>1</th>\n",
       "    <th>0.331376</th>\n",
       "    <th>0.338992</th>\n",
       "    <th>0.866667</th>\n",
       "  </tr>\n",
       "</table>\n"
      ],
      "text/plain": [
       "<IPython.core.display.HTML object>"
      ]
     },
     "metadata": {},
     "output_type": "display_data"
    }
   ],
   "source": [
    "learn.fit_one_cycle(1, max_lr=3e-2, wd=0.2)\n",
    "learn.save('stage-2')"
   ]
  },
  {
   "cell_type": "code",
   "execution_count": 30,
   "metadata": {},
   "outputs": [
    {
     "data": {
      "text/html": [
       "Total time: 00:46 <p><table style='width:300px; margin-bottom:10px'>\n",
       "  <tr>\n",
       "    <th>epoch</th>\n",
       "    <th>train_loss</th>\n",
       "    <th>valid_loss</th>\n",
       "    <th>accuracy</th>\n",
       "  </tr>\n",
       "  <tr>\n",
       "    <th>1</th>\n",
       "    <th>0.344953</th>\n",
       "    <th>0.344839</th>\n",
       "    <th>0.867361</th>\n",
       "  </tr>\n",
       "  <tr>\n",
       "    <th>2</th>\n",
       "    <th>0.326159</th>\n",
       "    <th>0.337427</th>\n",
       "    <th>0.867500</th>\n",
       "  </tr>\n",
       "</table>\n"
      ],
      "text/plain": [
       "<IPython.core.display.HTML object>"
      ]
     },
     "metadata": {},
     "output_type": "display_data"
    }
   ],
   "source": [
    "learn.fit_one_cycle(2, max_lr=3e-2, wd=0.2)\n",
    "learn.save('stage_3')"
   ]
  },
  {
   "cell_type": "markdown",
   "metadata": {},
   "source": [
    "Our losses are lowest with this neural network after just one epoch."
   ]
  },
  {
   "cell_type": "code",
   "execution_count": 31,
   "metadata": {
    "collapsed": true
   },
   "outputs": [],
   "source": [
    "learn.load('stage-1');"
   ]
  },
  {
   "cell_type": "code",
   "execution_count": 32,
   "metadata": {},
   "outputs": [
    {
     "name": "stdout",
     "output_type": "stream",
     "text": [
      "Positive Prediction: 11.968711763620377 %\n"
     ]
    }
   ],
   "source": [
    "valid_preds, valid_y = learn.get_preds(ds_type=DatasetType.Valid)\n",
    "valid_preds, valid_y = [x[1] for x in to_np(valid_preds)], to_np(valid_y)\n",
    "print(\"Positive Prediction:\", np.mean(valid_preds)*100, '%')"
   ]
  },
  {
   "cell_type": "markdown",
   "metadata": {},
   "source": [
    "It also is much more willing to make positive predictions, and it is in line with the validation set class percentages. Let's double-check by plotting those predictions against actual class balance through a calibration plot."
   ]
  },
  {
   "cell_type": "code",
   "execution_count": 33,
   "metadata": {},
   "outputs": [
    {
     "data": {
      "image/png": "[encoded data removed]",
      "text/plain": [
       "<matplotlib.figure.Figure at 0x1304849e8>"
      ]
     },
     "metadata": {},
     "output_type": "display_data"
    }
   ],
   "source": [
    "# Plot calibration curve\n",
    "plt.figure(figsize=(10, 10))\n",
    "ax1 = plt.subplot2grid((3, 1), (0, 0), rowspan=2)\n",
    "ax2 = plt.subplot2grid((3, 1), (2, 0))\n",
    "\n",
    "from sklearn.calibration import calibration_curve\n",
    "\n",
    "ax1.plot([0, 1], [0, 1], \"k:\", label=\"Perfectly calibrated\")\n",
    "\n",
    "# Compare true values to predictions\n",
    "fraction_of_positives, mean_predicted_value = calibration_curve(valid_y, valid_preds, n_bins=20)\n",
    "\n",
    "# Calibration Curve\n",
    "ax1.scatter(mean_predicted_value, fraction_of_positives, label='Neural Network')\n",
    "ax1.xaxis.set_ticks(np.arange(0, 1.1, 0.1))\n",
    "ax1.yaxis.set_ticks(np.arange(0, 1.1, 0.1))\n",
    "ax1.set_xlabel(\"Predicted Probabilities\")\n",
    "ax1.set_ylabel(\"Fraction of Positives\")\n",
    "ax1.set_xlim([0, 1])\n",
    "ax1.set_ylim([0, 1])\n",
    "ax1.legend(loc=\"lower right\")\n",
    "ax1.set_title('Calibration Plot (Reliability Curve)')\n",
    "\n",
    "# Histogram\n",
    "ax2.hist(valid_preds, range=(0, 1), bins=20, label='Neural Network', histtype=\"step\", lw=2)\n",
    "ax2.xaxis.set_ticks(np.arange(0, 1.1, 0.1))\n",
    "ax2.set_xlabel(\"Predicted Probabilities\")\n",
    "ax2.set_xlim([0, 1])\n",
    "ax2.set_ylabel(\"Count\")\n",
    "ax2.legend(loc=\"upper center\", ncol=1)\n",
    "\n",
    "plt.tight_layout()\n",
    "plt.show()"
   ]
  },
  {
   "cell_type": "markdown",
   "metadata": {},
   "source": [
    "Let's apply our predictions to the validation set to get a sense of how to interpret the model. *The model predicts the probability of which meal a user will pick.* To know how many meals to order, we would have to sum up the amount of meals actually ordered versus the sum of the probability predictions for those meals. We'll start by plotting the errors on these sums."
   ]
  },
  {
   "cell_type": "code",
   "execution_count": 30,
   "metadata": {},
   "outputs": [
    {
     "data": {
      "image/png": "[encoded data removed]",
      "text/plain": [
       "<matplotlib.figure.Figure at 0x10dab1c18>"
      ]
     },
     "metadata": {},
     "output_type": "display_data"
    }
   ],
   "source": [
    "valid['prediction'] = valid_preds\n",
    "y = list(valid.groupby('meal_id')['meal_ordered_yesterday'].sum())\n",
    "yhat = list(valid.groupby('meal_id')['prediction'].sum())\n",
    "errors = [a-b for a, b in zip(y, yhat)]\n",
    "plt.hist(errors, bins=20)\n",
    "plt.title('Validation errors plot')\n",
    "plt.show()"
   ]
  },
  {
   "cell_type": "markdown",
   "metadata": {},
   "source": [
    "The most likely outcome is that it gets it about right. There is some significant right-skew, indicating that the model can under-predict some circumstances. The errors seem *normal enough* to do some standard statistical work and generate prediction intervals."
   ]
  },
  {
   "cell_type": "code",
   "execution_count": 31,
   "metadata": {},
   "outputs": [
    {
     "name": "stdout",
     "output_type": "stream",
     "text": [
      "On the validation set...\n",
      "Within interval +1 stdev 98.0% of the time (theoretical 95.0%)\n",
      "Within interval +2 stdev 98.4% of the time (theoretical 97.5%)\n",
      "Within interval +3 stdev 99.6% of the time (theoretical 99.5%)\n"
     ]
    }
   ],
   "source": [
    "# Get the standard deviation\n",
    "sumerrs = np.sum([(a-b)**2 for a, b in zip(y, yhat)])\n",
    "stdev = np.sqrt(sumerrs/(len(y)))\n",
    "\n",
    "# Do 90% (95), 95% (97.5), and 99% (99.5) prediction invtervals and see how often predictions fall within upper bound\n",
    "interval_z = 1.645 * stdev\n",
    "upper_z = [x + interval_z for x in yhat]\n",
    "within_interval_z = [np.ceil(b) >= a for a, b in zip(y, upper_z)]\n",
    "\n",
    "interval_z2 = 1.96 * stdev\n",
    "upper_z2 = [x + interval_z2 for x in yhat]\n",
    "within_interval_z2 = [np.ceil(b) >= a for a, b in zip(y, upper_z2)]\n",
    "\n",
    "interval_z3 = 2.576 * stdev\n",
    "upper_z3 = [x + interval_z3 for x in yhat]\n",
    "within_interval_z3 = [np.ceil(b) >= a for a, b in zip(y, upper_z3)]\n",
    "\n",
    "pct_within_z = np.round(sum(within_interval_z)*100/len(within_interval_z), 2)\n",
    "pct_within_z2 = np.round(sum(within_interval_z2)*100/len(within_interval_z2), 2)\n",
    "pct_within_z3 = np.round(sum(within_interval_z3)*100/len(within_interval_z3), 2)\n",
    "\n",
    "print(\"On the validation set...\")\n",
    "print(\"Within interval +1 stdev {}% of the time (theoretical 95.0%)\".format(pct_within_z))\n",
    "print(\"Within interval +2 stdev {}% of the time (theoretical 97.5%)\".format(pct_within_z2))\n",
    "print(\"Within interval +3 stdev {}% of the time (theoretical 99.5%)\".format(pct_within_z3))"
   ]
  },
  {
   "cell_type": "markdown",
   "metadata": {},
   "source": [
    "Can we use this prediction interval formula on the on the meals sent set? Are the test and validation sets similar?"
   ]
  },
  {
   "cell_type": "code",
   "execution_count": 32,
   "metadata": {},
   "outputs": [
    {
     "name": "stdout",
     "output_type": "stream",
     "text": [
      "The average sent meal should expect 6.89 more orders compared to the validation set for a total of 7.89 orders.\n"
     ]
    }
   ],
   "source": [
    "mean_users_sent = np.mean(test_df.groupby('meal_id')['user_id'].count())\n",
    "mean_users_seen = np.mean(valid.groupby('meal_id')['user_id'].count())\n",
    "\n",
    "avg_user_diff = (mean_users_sent - mean_users_seen)\n",
    "expected_order_diff = avg_user_diff*0.14\n",
    "print('The average sent meal should expect', np.round(expected_order_diff, 2), \n",
    "      'more orders compared to the validation set for a total of', np.round(mean_users_sent*0.14, 2), \"orders.\")"
   ]
  },
  {
   "cell_type": "code",
   "execution_count": 33,
   "metadata": {},
   "outputs": [
    {
     "name": "stdout",
     "output_type": "stream",
     "text": [
      "On the meals to be sent set...\n",
      "    The average predicted likelihood of a user selecting a meal was 4.7 %.\n",
      "    The recommender suggest sending an average of 2.64 orders.\n"
     ]
    }
   ],
   "source": [
    "print(\"On the meals to be sent set...\")\n",
    "meals_sent['prediction'] = test_preds\n",
    "print(\"    The average predicted likelihood of a user selecting a meal was\", np.round(meals_sent['prediction'].mean(), \n",
    "                                                                               3)*100, '%.')\n",
    "meals_to_send = meals_sent.groupby('meal_id')['prediction'].sum().reset_index()\n",
    "print(\"    The recommender suggest sending an average of\", np.round(meals_to_send['prediction'].mean(), 2), \n",
    "      \"orders.\")"
   ]
  },
  {
   "cell_type": "markdown",
   "metadata": {},
   "source": [
    "The recommender is clearly treating the test set differently compared to the validation set. Why could this be occurring?\n",
    "\n",
    "Possibilities include:\n",
    "\n",
    "* There are many more users on the validation set for whom we do not have past data.\n",
    "* We used ordered yesterday as our target in training, presumably the end of the cycle. This contained more data on what had been ordered over the course of the cycle. The meals sent is the beginning of the cycle and features unseen meals. \n",
    "\n",
    "Let's look more closely at the meals to be sent predictions"
   ]
  },
  {
   "cell_type": "code",
   "execution_count": 34,
   "metadata": {},
   "outputs": [
    {
     "data": {
      "image/png": "[encoded data removed]",
      "text/plain": [
       "<matplotlib.figure.Figure at 0x129e76710>"
      ]
     },
     "metadata": {},
     "output_type": "display_data"
    }
   ],
   "source": [
    "fig, ax = plt.subplots(figsize=(10, 5))\n",
    "ax.hist(valid_preds, range=(0, 1), bins=50, label='Validation Predictions (Neural Network)', histtype=\"step\", lw=2)\n",
    "ax.hist(test_preds, range=(0, 1), bins=50, label='To Be Sent Predictions (Neural Network)', histtype=\"step\", lw=2)\n",
    "ax.legend(loc=\"upper center\", ncol=1)\n",
    "ax.xaxis.set_ticks(np.arange(0, 1.1, 0.1))\n",
    "ax.set_xlabel(\"Predicted Probabilities\")\n",
    "ax.set_xlim([0, 1])\n",
    "ax.set_ylabel(\"Count\")\n",
    "ax.legend(loc=\"upper center\", ncol=1)\n",
    "plt.show()"
   ]
  },
  {
   "cell_type": "markdown",
   "metadata": {},
   "source": [
    "Notice how much more even things were between the two bumps in the validation predictions! The differences in the seen data versus the unseen data are clearly being reflected in the model's predictions.\n",
    "\n",
    "To rectify this, we should adjust for the of possibility a portion of the prediction probabilities around 0.0 belong in the ~0.25 bin. We'll apply the adjustment to all low predictions."
   ]
  },
  {
   "cell_type": "code",
   "execution_count": 35,
   "metadata": {},
   "outputs": [
    {
     "name": "stdout",
     "output_type": "stream",
     "text": [
      "Increasing low new predictions by 366.0 %\n",
      "New average probability: 12.790000000000001 %\n",
      "The recommender now suggests sending an average of 7.2101 orders.\n"
     ]
    },
    {
     "name": "stderr",
     "output_type": "stream",
     "text": [
      "/Users/matthewignal/anaconda3/lib/python3.6/site-packages/ipykernel_launcher.py:17: SettingWithCopyWarning: \n",
      "A value is trying to be set on a copy of a slice from a DataFrame\n",
      "\n",
      "See the caveats in the documentation: http://pandas.pydata.org/pandas-docs/stable/indexing.html#indexing-view-versus-copy\n"
     ]
    }
   ],
   "source": [
    "# Calculate the difference between frequency of high predictions\n",
    "percent_high_valid = len(valid['prediction'].loc[valid['prediction'] >= 0.2])/len(valid)\n",
    "percent_high_test = len(meals_sent['prediction'].loc[meals_sent['prediction'] >= 0.2])/len(meals_sent)\n",
    "percent_high_diff = percent_high_valid - percent_high_test\n",
    "\n",
    "# Calculate the ratio of the the middle high and middle low predictions\n",
    "mid_high = 1 - percent_high_valid/2\n",
    "mid_high_quantile = valid['prediction'].quantile(mid_high)\n",
    "mid_low = (1 - percent_high_valid)/2\n",
    "mid_low_quantile = valid['prediction'].quantile(mid_low)\n",
    "ratio_pred = mid_high_quantile/mid_low_quantile\n",
    "\n",
    "# Raise according to the difference in high predictions by the ratio of the differences\n",
    "avg_raise = percent_high_diff*ratio_pred\n",
    "\n",
    "meals_sent['new_prediction'] = meals_sent['prediction']\n",
    "meals_sent['new_prediction'][meals_sent['prediction'] <= 0.1] = meals_sent['prediction']*(1+avg_raise)\n",
    "print(\"Increasing low new predictions by\", np.round(avg_raise, 2)*100, \"%\")\n",
    "print(\"New average probability:\", np.round(meals_sent['new_prediction'].mean(), 4)*100, \"%\")\n",
    "meals_to_send = meals_sent.groupby('meal_id')['new_prediction'].sum().reset_index()\n",
    "mean_meals_to_send = meals_to_send['new_prediction'].mean()\n",
    "print(\"The recommender now suggests sending an average of\", np.round(mean_meals_to_send, 4), \n",
    "      \"orders.\")"
   ]
  },
  {
   "cell_type": "markdown",
   "metadata": {},
   "source": [
    "This is roughly in line with what we would expect.\n",
    "\n",
    "Finally, to calculate prediction intervals, we should make an adjustment by looking at how the error changed as the prediction changed."
   ]
  },
  {
   "cell_type": "code",
   "execution_count": 36,
   "metadata": {},
   "outputs": [
    {
     "data": {
      "image/png": "[encoded data removed]",
      "text/plain": [
       "<matplotlib.figure.Figure at 0x129833940>"
      ]
     },
     "metadata": {},
     "output_type": "display_data"
    }
   ],
   "source": [
    "zip_errors = [(np.round(x, 1), np.round(y, 1)) for x, y in zip(yhat, np.abs(errors))]\n",
    "zip_errors_df = pd.DataFrame(zip_errors, columns=['prediction', 'errors'])\n",
    "mean_errors = zip_errors_df.groupby('prediction').mean().reset_index()\n",
    "\n",
    "from scipy import stats\n",
    "slope, intercept, r_value, p_value, std_err = stats.linregress(yhat, np.abs(errors))\n",
    "plt.scatter(mean_errors['prediction'], mean_errors['errors'])\n",
    "plt.title('Slope: {}'.format(np.round(slope, 2)))\n",
    "plt.xlabel('Prediction')\n",
    "plt.ylabel('Abs. Error')\n",
    "plt.show()"
   ]
  },
  {
   "cell_type": "markdown",
   "metadata": {},
   "source": [
    "Our absolute error increases by the slope for each 1 prediction. We'll adjust the prediction intervals by taking the product of the slope and the difference of the meal predictions between the two sets."
   ]
  },
  {
   "cell_type": "code",
   "execution_count": 37,
   "metadata": {},
   "outputs": [
    {
     "name": "stdout",
     "output_type": "stream",
     "text": [
      "Interval multiplier: 2.15\n"
     ]
    }
   ],
   "source": [
    "multiplier = (np.mean(mean_meals_to_send)-np.mean(yhat))*slope\n",
    "print('Interval multiplier:', np.round(multiplier, 2))\n",
    "\n",
    "# Calculate new intervals\n",
    "meals_to_send['95th Percentile Interval'] = np.ceil(meals_to_send['new_prediction'] + interval_z*multiplier)\n",
    "meals_to_send['97th Percentile Interval'] = np.ceil(meals_to_send['new_prediction'] + interval_z2*multiplier)\n",
    "meals_to_send['99th Percentile Interval'] = np.ceil(meals_to_send['new_prediction'] + interval_z3*multiplier)"
   ]
  },
  {
   "cell_type": "code",
   "execution_count": 38,
   "metadata": {},
   "outputs": [
    {
     "name": "stdout",
     "output_type": "stream",
     "text": [
      "   meal_id  new_prediction  95th Percentile Interval  \\\n",
      "0     1000        7.023204                      11.0   \n",
      "1     1001        8.196882                      12.0   \n",
      "2     1002        7.990185                      12.0   \n",
      "3     1003        8.920914                      13.0   \n",
      "4     1004        3.919874                       8.0   \n",
      "\n",
      "   97th Percentile Interval  99th Percentile Interval  \n",
      "0                      12.0                      13.0  \n",
      "1                      13.0                      15.0  \n",
      "2                      13.0                      14.0  \n",
      "3                      14.0                      15.0  \n",
      "4                       9.0                      10.0  \n"
     ]
    }
   ],
   "source": [
    "print(meals_to_send.head())\n",
    "meals_to_send.to_csv('output.csv')"
   ]
  },
  {
   "cell_type": "markdown",
   "metadata": {},
   "source": [
    "## Final Thoughts\n",
    "\n",
    "If this were real data in a real-world scenario, I would not recommend implementing this algorithm as-is. The task of needing to engineer the target, combined with the difference between the data to be used for training versus how it would be applied makes this a poor choice for determining how many meals should be recommended.\n",
    "\n",
    "A better process would be to have a time-series of records of each day across many subscription cycles. That would provide a rich historical dataset from which we could more confidently apply an algorithm's predictions knowing the application on new data would be similar to the data found in the training and validation sets.\n",
    "\n",
    "Thanks for following along!"
   ]
  },
  {
   "cell_type": "code",
   "execution_count": null,
   "metadata": {
    "collapsed": true
   },
   "outputs": [],
   "source": []
  }
 ],
 "metadata": {
  "kernelspec": {
   "display_name": "Python 3",
   "language": "python",
   "name": "python3"
  },
  "language_info": {
   "codemirror_mode": {
    "name": "ipython",
    "version": 3
   },
   "file_extension": ".py",
   "mimetype": "text/x-python",
   "name": "python",
   "nbconvert_exporter": "python",
   "pygments_lexer": "ipython3",
   "version": "3.6.3"
  }
 },
 "nbformat": 4,
 "nbformat_minor": 2
}
